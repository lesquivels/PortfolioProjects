{
 "cells": [
  {
   "cell_type": "markdown",
   "id": "79570cb7-413b-45db-9843-3062d21293ab",
   "metadata": {
    "editable": true,
    "slideshow": {
     "slide_type": ""
    },
    "tags": []
   },
   "source": [
    "# Case Study: Cyclistic, a bike-Sharing business\n",
    "\n",
    "Part of the Google Data Analytics Professional Certificate - Coursera\n",
    "\n",
    "Copyright © 2024 Luis Esquivel"
   ]
  },
  {
   "cell_type": "code",
   "execution_count": 94,
   "id": "43667a3a-cb8f-4b34-9ec0-3b09d812e085",
   "metadata": {},
   "outputs": [],
   "source": [
    "# Importing working modules\n",
    "import pandas as pd\n",
    "import os\n",
    "from matplotlib import pyplot as plt\n",
    "import pickle\n",
    "import datetime\n",
    "import seaborn as sns\n",
    "sns.set_theme(style=\"whitegrid\")\n",
    "\n",
    "# For not modifying the original df by modifying its view.\n",
    "pd.options.mode.copy_on_write = True"
   ]
  },
  {
   "cell_type": "markdown",
   "id": "0fefb412-d0c0-4558-bab8-c166b33e41bf",
   "metadata": {
    "editable": true,
    "slideshow": {
     "slide_type": ""
    },
    "tags": []
   },
   "source": [
    "Checkpoint: go to [Analysis phase](#Analysis)."
   ]
  },
  {
   "cell_type": "code",
   "execution_count": 4,
   "id": "8d401740-1805-406c-b1ed-daa34dae53ab",
   "metadata": {
    "collapsed": true,
    "jupyter": {
     "outputs_hidden": true,
     "source_hidden": true
    }
   },
   "outputs": [
    {
     "name": "stdout",
     "output_type": "stream",
     "text": [
      "Importing 202302-divvy-tripdata.csv\n",
      "Importing 202303-divvy-tripdata.csv\n",
      "Importing 202304-divvy-tripdata.csv\n",
      "Importing 202305-divvy-tripdata.csv\n",
      "Importing 202306-divvy-tripdata.csv\n",
      "Importing 202307-divvy-tripdata.csv\n",
      "Importing 202308-divvy-tripdata.csv\n",
      "Importing 202309-divvy-tripdata.csv\n",
      "Importing 202310-divvy-tripdata.csv\n",
      "Importing 202311-divvy-tripdata.csv\n",
      "Importing 202312-divvy-tripdata.csv\n",
      "Importing 202401-divvy-tripdata.csv\n",
      "All files loaded have identical headers. Concatenating all dfs ...\n",
      "Serializing td_df into pickle.\n",
      "(5674449, 13)\n"
     ]
    }
   ],
   "source": [
    "# DO NOT RUN AGAIN!!!\n",
    "## Already run.\n",
    "\n",
    "### Importing CSV files.\n",
    "fpath = \"C:\\\\Users\\\\luisc\\\\OneDrive - Colegio Federado de Ingenieros y de Arquitectos\\\\DataScience&Coding\\\\CaseStudies\\\\2_BikeShareBusiness_GoogleDataAnalystics_Coursera\\\\workedData\"\n",
    "\n",
    "td_dict = {}\n",
    "\n",
    "for fname in os.listdir(fpath):\n",
    "    if \".csv\" in fname:\n",
    "        print(\"Importing {}\".format(fname))\n",
    "        td_dict[fname[0:6]] = pd.read_csv(fpath + '\\\\' + fname)\n",
    "\n",
    "### Check if all files loaded have identical headers.\n",
    "df_cols = list()\n",
    "for key in td_dict:\n",
    "   df_cols.append(list(td_dict[key].columns))\n",
    "\n",
    "if all(i == df_cols[0] for i in df_cols): \n",
    "    print(\"All files loaded have identical headers. Concatenating all dfs ...\")\n",
    "    td_df = pd.concat(td_dict.values(), ignore_index=True)\n",
    "\n",
    "### Store data (serialize).\n",
    "    print(\"Serializing td_df into pickle.\")\n",
    "    td_df.to_pickle(fpath + '\\\\' + 'td_df.pickle')\n",
    "\n",
    "    print(td_df.shape)\n",
    "    td_df.head(3)\n",
    "\n",
    "else:\n",
    "    print(\"At least one file have different headers. It's not safe to concatenate all dfs.\")"
   ]
  },
  {
   "cell_type": "code",
   "execution_count": 2,
   "id": "371c0283-86bb-4284-a5e7-2737619481d1",
   "metadata": {},
   "outputs": [
    {
     "name": "stdout",
     "output_type": "stream",
     "text": [
      "(5674449, 13)\n"
     ]
    },
    {
     "data": {
      "text/html": [
       "<div>\n",
       "<style scoped>\n",
       "    .dataframe tbody tr th:only-of-type {\n",
       "        vertical-align: middle;\n",
       "    }\n",
       "\n",
       "    .dataframe tbody tr th {\n",
       "        vertical-align: top;\n",
       "    }\n",
       "\n",
       "    .dataframe thead th {\n",
       "        text-align: right;\n",
       "    }\n",
       "</style>\n",
       "<table border=\"1\" class=\"dataframe\">\n",
       "  <thead>\n",
       "    <tr style=\"text-align: right;\">\n",
       "      <th></th>\n",
       "      <th>ride_id</th>\n",
       "      <th>rideable_type</th>\n",
       "      <th>started_at</th>\n",
       "      <th>ended_at</th>\n",
       "      <th>start_station_name</th>\n",
       "      <th>start_station_id</th>\n",
       "      <th>end_station_name</th>\n",
       "      <th>end_station_id</th>\n",
       "      <th>start_lat</th>\n",
       "      <th>start_lng</th>\n",
       "      <th>end_lat</th>\n",
       "      <th>end_lng</th>\n",
       "      <th>member_casual</th>\n",
       "    </tr>\n",
       "  </thead>\n",
       "  <tbody>\n",
       "    <tr>\n",
       "      <th>0</th>\n",
       "      <td>CBCD0D7777F0E45F</td>\n",
       "      <td>classic_bike</td>\n",
       "      <td>2023-02-14 11:59:42</td>\n",
       "      <td>2023-02-14 12:13:38</td>\n",
       "      <td>Southport Ave &amp; Clybourn Ave</td>\n",
       "      <td>TA1309000030</td>\n",
       "      <td>Clark St &amp; Schiller St</td>\n",
       "      <td>TA1309000024</td>\n",
       "      <td>41.920771</td>\n",
       "      <td>-87.663712</td>\n",
       "      <td>41.907993</td>\n",
       "      <td>-87.631501</td>\n",
       "      <td>casual</td>\n",
       "    </tr>\n",
       "    <tr>\n",
       "      <th>1</th>\n",
       "      <td>F3EC5FCE5FF39DE9</td>\n",
       "      <td>electric_bike</td>\n",
       "      <td>2023-02-15 13:53:48</td>\n",
       "      <td>2023-02-15 13:59:08</td>\n",
       "      <td>Clarendon Ave &amp; Gordon Ter</td>\n",
       "      <td>13379</td>\n",
       "      <td>Sheridan Rd &amp; Lawrence Ave</td>\n",
       "      <td>TA1309000041</td>\n",
       "      <td>41.957879</td>\n",
       "      <td>-87.649584</td>\n",
       "      <td>41.969517</td>\n",
       "      <td>-87.654691</td>\n",
       "      <td>casual</td>\n",
       "    </tr>\n",
       "    <tr>\n",
       "      <th>2</th>\n",
       "      <td>E54C1F27FA9354FF</td>\n",
       "      <td>classic_bike</td>\n",
       "      <td>2023-02-19 11:10:57</td>\n",
       "      <td>2023-02-19 11:35:01</td>\n",
       "      <td>Southport Ave &amp; Clybourn Ave</td>\n",
       "      <td>TA1309000030</td>\n",
       "      <td>Aberdeen St &amp; Monroe St</td>\n",
       "      <td>13156</td>\n",
       "      <td>41.920771</td>\n",
       "      <td>-87.663712</td>\n",
       "      <td>41.880419</td>\n",
       "      <td>-87.655519</td>\n",
       "      <td>member</td>\n",
       "    </tr>\n",
       "  </tbody>\n",
       "</table>\n",
       "</div>"
      ],
      "text/plain": [
       "            ride_id  rideable_type           started_at             ended_at  \\\n",
       "0  CBCD0D7777F0E45F   classic_bike  2023-02-14 11:59:42  2023-02-14 12:13:38   \n",
       "1  F3EC5FCE5FF39DE9  electric_bike  2023-02-15 13:53:48  2023-02-15 13:59:08   \n",
       "2  E54C1F27FA9354FF   classic_bike  2023-02-19 11:10:57  2023-02-19 11:35:01   \n",
       "\n",
       "             start_station_name start_station_id            end_station_name  \\\n",
       "0  Southport Ave & Clybourn Ave     TA1309000030      Clark St & Schiller St   \n",
       "1    Clarendon Ave & Gordon Ter            13379  Sheridan Rd & Lawrence Ave   \n",
       "2  Southport Ave & Clybourn Ave     TA1309000030     Aberdeen St & Monroe St   \n",
       "\n",
       "  end_station_id  start_lat  start_lng    end_lat    end_lng member_casual  \n",
       "0   TA1309000024  41.920771 -87.663712  41.907993 -87.631501        casual  \n",
       "1   TA1309000041  41.957879 -87.649584  41.969517 -87.654691        casual  \n",
       "2          13156  41.920771 -87.663712  41.880419 -87.655519        member  "
      ]
     },
     "execution_count": 2,
     "metadata": {},
     "output_type": "execute_result"
    }
   ],
   "source": [
    "# Load data (deserialize).\n",
    "fpath = \"C:\\\\Users\\\\luisc\\\\OneDrive - Colegio Federado de Ingenieros y de Arquitectos\\\\DataScience&Coding\\\\CaseStudies\\\\2_BikeShareBusiness_GoogleDataAnalystics_Coursera\\\\workedData\"\n",
    "\n",
    "td_df = pd.read_pickle(fpath + '\\\\' + 'td_df.pickle')\n",
    "print(td_df.shape)\n",
    "td_df.head(3)"
   ]
  },
  {
   "cell_type": "markdown",
   "id": "1ba23b39-8202-4750-a17a-a90c2c6c23ca",
   "metadata": {
    "editable": true,
    "slideshow": {
     "slide_type": ""
    },
    "tags": []
   },
   "source": [
    "## Ask: Defining the problem/challenge\n",
    "\n",
    "### Parties involved\n",
    "\n",
    "- Client/Sponsor: <u>Cyclistic company</u>\n",
    "    - Bike-sharing business founded in 2016. \n",
    "    - Bike fleet of 5,824 and 692 docking stations in Chicago.\n",
    "    - Inclusive to people with disabilities by offering alternatives to the standard two-wheeled bike (represent 8% of the rides).\n",
    "    - Cyclistic users that ride for leisure &rarr; 70% ; ride for commuting to work &rarr; 30%.\n",
    "    - Has flexible pricing-plans: single-ride passes, full-day passes, annual memberships.\n",
    "- Key stakeholders\n",
    "    - <u>Lily Moreno</u>: The director of marketing and my manager.\n",
    "\n",
    "- Data Analytics team\n",
    "    - <u>Luis Esquivel</u>: Data analyst.\n",
    "\n",
    "### Context\n",
    "- <u>Overall goal</u> (Overall-What?): Increase business profit by turning casual riders (existing customers) into Cyclistic members, based on the conclusion of Cyclistic's finance analysts that \"*annual members are much more profitable than casual riders*\".\n",
    "- <u>Means to reach overall goal</u> (Overall-How?): By designing and implementing marketing strategies (including email, social media, others) focused on casual riders.\n",
    "- <u>Needs of the \"*Means*\"</u>: (1) Better understand how annual members and casual riders differ, (2) why would casual riders buy a Cyclistic annual membership, and (3) how digital media could influence casual riders to become members?\n",
    "- <u>**How can I help**</u> (Specific-What?): By identifying how annual members and casual riders differ and **providing actionable insights** on this area for the marketing campaign.\n",
    "\n",
    "### Business task\n",
    "**How casual riders and annual members use Cyclistic bikes differently?**"
   ]
  },
  {
   "cell_type": "markdown",
   "id": "16bc257a-1b0c-493b-b019-b788295a8074",
   "metadata": {},
   "source": [
    "### Activities and schedule\n",
    "<table>\n",
    "  <thead>\n",
    "    <tr>\n",
    "      <th scope=\"col\">Activity</th>\n",
    "      <th scope=\"col\">Scope</th>\n",
    "      <th scope=\"col\">Milestones</th>\n",
    "      <th scope=\"col\">Schedule</th>\n",
    "    </tr>\n",
    "  </thead>\n",
    "  <tbody>\n",
    "    <tr>\n",
    "      <th scope=\"row\">Data preparation -<br> Describing the data</th>\n",
    "      <td>Understanding how data was generated, collected<br> and identifying its formats, types, and structures.</td>\n",
    "      <td>Description of the available data. </td>\n",
    "      <td>1 day</td>\n",
    "    </tr>\n",
    "    <tr>\n",
    "      <th scope=\"row\">Data preparation -<br> Evaluating the data</th>\n",
    "      <td>Check the data provided by the client for bias,<br> credibility, ethics and privacy.</td>\n",
    "      <td>Evaluation of:\n",
    "          <ul>\n",
    "              <li>Data bias</li>\n",
    "              <li>Data credibility</li>\n",
    "              <li>Data ethics and privacy</li>\n",
    "          </ul>\n",
    "      </td>\n",
    "      <td>1 day</td>\n",
    "    </tr>\n",
    "    <tr>\n",
    "      <th scope=\"row\">Data preparation -<br> Managing the data</th>\n",
    "      <td>Organizing and protecting the data.</td>\n",
    "      <td>Description of:\n",
    "          <ul>\n",
    "              <li>Where and how the data is stored and <br>organized.</li>\n",
    "              <li>How the data is protected.</li>\n",
    "          </ul>\n",
    "      </td>\n",
    "      <td>1 day</td>\n",
    "    </tr>\n",
    "    <tr>\n",
    "      <th scope=\"row\">Data processing</th>\n",
    "      <td>Data integrity, cleaning and transformation, as well as its <br>verification.</td>\n",
    "      <td>Documentation of the data processing.</td>\n",
    "      <td>2 days</td>\n",
    "    </tr>\n",
    "    <tr>\n",
    "      <th scope=\"row\">Data analysis</th>\n",
    "      <td>Definition of business rules, further transforming data if needed,<br> explore data to identify patterns and gain insights, identifying limitations.</td>\n",
    "      <td>Analysis summary including:\n",
    "          <ul>\n",
    "              <li>Definition of business rules.</li>\n",
    "              <li>Visualizations and key findings.</li>\n",
    "              <li>Identification of limitations.</li>\n",
    "          </ul>\n",
    "      </td>\n",
    "      <td>2 days</td>\n",
    "    </tr>\n",
    "    <tr>\n",
    "      <th scope=\"row\">Conclusions and<br> recommendations</th>\n",
    "      <td>Focusing on generating actionable insights based on <br>the analysis performed and impacting the business.</td>\n",
    "      <td>\n",
    "          <ul>\n",
    "              <li>Top three recommendations.</li>\n",
    "              <li>Final executive report.</li>\n",
    "              <li>Documentation for reproducing all the work done.</li>\n",
    "          </ul>\n",
    "      </td>\n",
    "      <td>2 days</td>\n",
    "    </tr>\n",
    "  </tbody>"
   ]
  },
  {
   "cell_type": "markdown",
   "id": "96f71ec4-f591-4e2f-844f-705ae3ff5ec1",
   "metadata": {},
   "source": [
    "### Deliverables\n",
    "1. [x] A clear statement of the business task &rarr; Ask phase.\n",
    "2. [x] A description of all data sources used &rarr; Prepare phase.\n",
    "3. [x] Documentation of any cleaning or manipulation of data &rarr; Process phase.\n",
    "4. [x] A summary of your analysis &rarr; Analyze phase. \n",
    "5. [x] Supporting visualizations and key findings &rarr; Share phase.\n",
    "6. [x] Your top three recommendations (actionable insights) based on your analysis &rarr; Act phase.\n",
    "\n",
    "### Out of Scope\n",
    "1. No data older than 1 year will be considered for this project, because it may not be representative of the current situation.\n",
    "2. Only the historical data from Cyclistic will be used, no other data sources are included. This is because the focus is on existing customers of the type *casual riders*."
   ]
  },
  {
   "cell_type": "markdown",
   "id": "f41f35ba-56d3-4646-8f6d-73df1de98b3b",
   "metadata": {},
   "source": [
    "## Prepare\n",
    "### Data description\n",
    "For the details and calculation, [see this section](#bash-for-Data-Description).\n",
    "\n",
    "- There is no information about how the data was **generated** and **collected**. In a real-case situation, it would be a good time to **ask for clarification** about this to those responsible.\n",
    "- The data is **available** at [this website](https://divvy-tripdata.s3.amazonaws.com/index.html), in the form of ZIP files.\n",
    "- Its **primary, internal** (also known as first-party) historical data collected by Cyclistc.\n",
    "- Each file contains data from one month in CSV **format**, both for MAC and other OS users. A year worth data was manually downloaded, corresponding to 12 files. The mean **file size** is of 90 MB, while the max size is 148 MB.\n",
    "\n",
    "The following data description is based on the exploration of the file \"202401-divvy-tripdata.csv\":\n",
    "- Is **structured wide** data organized in rows and columns. In the case of this specific files, it has 13 columns (variables) and 144,873 rows (observations/records).\n",
    "- 7 variables (ride_id, start_station_name, start_station_id, end_station_name, end_station_id, member_casual, other 2 see below) are **qualitative nominal data (categorical) of type object** (mixed numeric and non-numeric values), 4 variables (start_lat, start_lng, end_lat, end_lng) are **quantitative continuous data of type float**, 2 variables (started_at, ended_at) appear as object type but they should be **quantitative ordinal data of type datetime**. This transformation will be implemented in the Process phase.\n",
    "- 6 columns have **null values**. This will be addressed in detail in the Process phase.\n",
    "\n",
    "The following data description is from the df containing the data from all 12 files (td_df):\n",
    "- The total observations are 5,674,449."
   ]
  },
  {
   "cell_type": "markdown",
   "id": "00abe80a-2bc2-4807-9259-32e9fe1b9437",
   "metadata": {},
   "source": [
    "### Data evaluation\n",
    "- **Bias**: there is no information about the data collection process, to see if there was some kind of sampling bias. I am assuming data was collected for every user of Cyclistic, so there is **no sampling bias**. In a real-case situation, it would be a good time to ask for clarification about this to those responsible.\n",
    "- **Credibility**\n",
    "    - The data is **reliable**, as it was approved by Google for undertaking this case study.\n",
    "    - It's **original** because is was downloaded directly from the source.\n",
    "    - It's **comprehensive** for the present business task at the level it will be addressed.\n",
    "    - It's **current**, as it can be seen on the \"Date modified\" in the source website.\n",
    "    - It's source can be **cited**, in fact it is in the description of the case study.\n",
    "- **Ethics**\n",
    "    - Ownership and consent: when the data was collected, the user had to be informed of how, why, and for how long their data will be used.\n",
    "    - Transaction transparency: this notebook is available for anyone interested to see how the data was processed and analyzed.\n",
    "    - Currency: in this case no financial transactions results from the use of this data.\n",
    "    - Openness: the data used in this case study is public data made available by Motivate International Inc. under this [license](https://divvybikes.com/data-license-agreement).\n",
    "    - **Privacy**: was implemented by anonymizing the data, eliminating personal identifiable information (PII).     "
   ]
  },
  {
   "cell_type": "markdown",
   "id": "d1f6ed4e-d7c3-454b-8fcd-79cd1f7fe9c8",
   "metadata": {},
   "source": [
    "### Data management\n",
    "- **Storage and organization**\n",
    "    - This JupyterLab notebook, along with other relevant files for the case study, are stored in \"...\\CaseStudies\\2_BikeShareBusiness_GoogleDataAnalystics_Coursera\\\".\n",
    "    - A local copy of the raw data is stored in \"...\\CaseStudies\\2_BikeShareBusiness_GoogleDataAnalystics_Coursera\\originalData\\\".\n",
    "    - A local copy for working (workedData) is stored in \"...\\CaseStudies\\2_BikeShareBusiness_GoogleDataAnalystics_Coursera\\workedData\\\".\n",
    "    - The original name convention of the files was kept:  \"YYYYMM-divvy-tripdata.csv\", for example, \"202401-divvy-tripdata.csv\".\n",
    "    \n",
    "- **Protection**: because everything mentioned before is stored locally, the data and related files are secured by the password to start my user session."
   ]
  },
  {
   "cell_type": "markdown",
   "id": "dfb356c8-04c3-43df-8a96-9961d52db484",
   "metadata": {},
   "source": [
    "## Process\n",
    "In this phase, the data is checked to see how it is complying with data integrity principles (validity, completeness, consistency, and accuracy). It's also cleaned and transform as necessary."
   ]
  },
  {
   "cell_type": "markdown",
   "id": "6b20ef5e-fe96-4b49-a458-ff39399ada1a",
   "metadata": {},
   "source": [
    "### Validating data types"
   ]
  },
  {
   "cell_type": "code",
   "execution_count": 3,
   "id": "ea918674-e750-4db4-92f4-41885dad2b0a",
   "metadata": {},
   "outputs": [
    {
     "name": "stdout",
     "output_type": "stream",
     "text": [
      "<class 'pandas.core.frame.DataFrame'>\n",
      "RangeIndex: 5674449 entries, 0 to 5674448\n",
      "Data columns (total 13 columns):\n",
      " #   Column              Dtype  \n",
      "---  ------              -----  \n",
      " 0   ride_id             object \n",
      " 1   rideable_type       object \n",
      " 2   started_at          object \n",
      " 3   ended_at            object \n",
      " 4   start_station_name  object \n",
      " 5   start_station_id    object \n",
      " 6   end_station_name    object \n",
      " 7   end_station_id      object \n",
      " 8   start_lat           float64\n",
      " 9   start_lng           float64\n",
      " 10  end_lat             float64\n",
      " 11  end_lng             float64\n",
      " 12  member_casual       object \n",
      "dtypes: float64(4), object(9)\n",
      "memory usage: 562.8+ MB\n"
     ]
    }
   ],
   "source": [
    "# Check original types.\n",
    "td_df.info()"
   ]
  },
  {
   "cell_type": "markdown",
   "id": "e62a4d62-4545-4ee3-9857-4917328e998f",
   "metadata": {},
   "source": [
    "As it was stated in the [Data description](#Data-description) section, the 'started_at' and 'ended_at' variables should be of type datetime."
   ]
  },
  {
   "cell_type": "code",
   "execution_count": 4,
   "id": "9dc8f225-1075-45c4-9838-88c149c9560b",
   "metadata": {},
   "outputs": [
    {
     "name": "stdout",
     "output_type": "stream",
     "text": [
      "<class 'pandas.core.frame.DataFrame'>\n",
      "RangeIndex: 5674449 entries, 0 to 5674448\n",
      "Data columns (total 13 columns):\n",
      " #   Column              Dtype         \n",
      "---  ------              -----         \n",
      " 0   ride_id             object        \n",
      " 1   rideable_type       object        \n",
      " 2   started_at          datetime64[ns]\n",
      " 3   ended_at            datetime64[ns]\n",
      " 4   start_station_name  object        \n",
      " 5   start_station_id    object        \n",
      " 6   end_station_name    object        \n",
      " 7   end_station_id      object        \n",
      " 8   start_lat           float64       \n",
      " 9   start_lng           float64       \n",
      " 10  end_lat             float64       \n",
      " 11  end_lng             float64       \n",
      " 12  member_casual       object        \n",
      "dtypes: datetime64[ns](2), float64(4), object(7)\n",
      "memory usage: 562.8+ MB\n"
     ]
    },
    {
     "data": {
      "text/html": [
       "<div>\n",
       "<style scoped>\n",
       "    .dataframe tbody tr th:only-of-type {\n",
       "        vertical-align: middle;\n",
       "    }\n",
       "\n",
       "    .dataframe tbody tr th {\n",
       "        vertical-align: top;\n",
       "    }\n",
       "\n",
       "    .dataframe thead th {\n",
       "        text-align: right;\n",
       "    }\n",
       "</style>\n",
       "<table border=\"1\" class=\"dataframe\">\n",
       "  <thead>\n",
       "    <tr style=\"text-align: right;\">\n",
       "      <th></th>\n",
       "      <th>ride_id</th>\n",
       "      <th>rideable_type</th>\n",
       "      <th>started_at</th>\n",
       "      <th>ended_at</th>\n",
       "      <th>start_station_name</th>\n",
       "      <th>start_station_id</th>\n",
       "      <th>end_station_name</th>\n",
       "      <th>end_station_id</th>\n",
       "      <th>start_lat</th>\n",
       "      <th>start_lng</th>\n",
       "      <th>end_lat</th>\n",
       "      <th>end_lng</th>\n",
       "      <th>member_casual</th>\n",
       "    </tr>\n",
       "  </thead>\n",
       "  <tbody>\n",
       "    <tr>\n",
       "      <th>0</th>\n",
       "      <td>CBCD0D7777F0E45F</td>\n",
       "      <td>classic_bike</td>\n",
       "      <td>2023-02-14 11:59:42</td>\n",
       "      <td>2023-02-14 12:13:38</td>\n",
       "      <td>Southport Ave &amp; Clybourn Ave</td>\n",
       "      <td>TA1309000030</td>\n",
       "      <td>Clark St &amp; Schiller St</td>\n",
       "      <td>TA1309000024</td>\n",
       "      <td>41.920771</td>\n",
       "      <td>-87.663712</td>\n",
       "      <td>41.907993</td>\n",
       "      <td>-87.631501</td>\n",
       "      <td>casual</td>\n",
       "    </tr>\n",
       "    <tr>\n",
       "      <th>1</th>\n",
       "      <td>F3EC5FCE5FF39DE9</td>\n",
       "      <td>electric_bike</td>\n",
       "      <td>2023-02-15 13:53:48</td>\n",
       "      <td>2023-02-15 13:59:08</td>\n",
       "      <td>Clarendon Ave &amp; Gordon Ter</td>\n",
       "      <td>13379</td>\n",
       "      <td>Sheridan Rd &amp; Lawrence Ave</td>\n",
       "      <td>TA1309000041</td>\n",
       "      <td>41.957879</td>\n",
       "      <td>-87.649584</td>\n",
       "      <td>41.969517</td>\n",
       "      <td>-87.654691</td>\n",
       "      <td>casual</td>\n",
       "    </tr>\n",
       "    <tr>\n",
       "      <th>2</th>\n",
       "      <td>E54C1F27FA9354FF</td>\n",
       "      <td>classic_bike</td>\n",
       "      <td>2023-02-19 11:10:57</td>\n",
       "      <td>2023-02-19 11:35:01</td>\n",
       "      <td>Southport Ave &amp; Clybourn Ave</td>\n",
       "      <td>TA1309000030</td>\n",
       "      <td>Aberdeen St &amp; Monroe St</td>\n",
       "      <td>13156</td>\n",
       "      <td>41.920771</td>\n",
       "      <td>-87.663712</td>\n",
       "      <td>41.880419</td>\n",
       "      <td>-87.655519</td>\n",
       "      <td>member</td>\n",
       "    </tr>\n",
       "    <tr>\n",
       "      <th>3</th>\n",
       "      <td>3D561E04F739CC45</td>\n",
       "      <td>electric_bike</td>\n",
       "      <td>2023-02-26 16:12:05</td>\n",
       "      <td>2023-02-26 16:39:55</td>\n",
       "      <td>Southport Ave &amp; Clybourn Ave</td>\n",
       "      <td>TA1309000030</td>\n",
       "      <td>Franklin St &amp; Adams St (Temp)</td>\n",
       "      <td>TA1309000008</td>\n",
       "      <td>41.920873</td>\n",
       "      <td>-87.663733</td>\n",
       "      <td>41.879434</td>\n",
       "      <td>-87.635504</td>\n",
       "      <td>member</td>\n",
       "    </tr>\n",
       "    <tr>\n",
       "      <th>4</th>\n",
       "      <td>0CB4B4D53B2DBE05</td>\n",
       "      <td>electric_bike</td>\n",
       "      <td>2023-02-20 11:55:23</td>\n",
       "      <td>2023-02-20 12:05:48</td>\n",
       "      <td>Prairie Ave &amp; Garfield Blvd</td>\n",
       "      <td>TA1307000160</td>\n",
       "      <td>Cottage Grove Ave &amp; 63rd St</td>\n",
       "      <td>KA1503000054</td>\n",
       "      <td>41.794827</td>\n",
       "      <td>-87.618795</td>\n",
       "      <td>41.780531</td>\n",
       "      <td>-87.605970</td>\n",
       "      <td>member</td>\n",
       "    </tr>\n",
       "  </tbody>\n",
       "</table>\n",
       "</div>"
      ],
      "text/plain": [
       "            ride_id  rideable_type          started_at            ended_at  \\\n",
       "0  CBCD0D7777F0E45F   classic_bike 2023-02-14 11:59:42 2023-02-14 12:13:38   \n",
       "1  F3EC5FCE5FF39DE9  electric_bike 2023-02-15 13:53:48 2023-02-15 13:59:08   \n",
       "2  E54C1F27FA9354FF   classic_bike 2023-02-19 11:10:57 2023-02-19 11:35:01   \n",
       "3  3D561E04F739CC45  electric_bike 2023-02-26 16:12:05 2023-02-26 16:39:55   \n",
       "4  0CB4B4D53B2DBE05  electric_bike 2023-02-20 11:55:23 2023-02-20 12:05:48   \n",
       "\n",
       "             start_station_name start_station_id  \\\n",
       "0  Southport Ave & Clybourn Ave     TA1309000030   \n",
       "1    Clarendon Ave & Gordon Ter            13379   \n",
       "2  Southport Ave & Clybourn Ave     TA1309000030   \n",
       "3  Southport Ave & Clybourn Ave     TA1309000030   \n",
       "4   Prairie Ave & Garfield Blvd     TA1307000160   \n",
       "\n",
       "                end_station_name end_station_id  start_lat  start_lng  \\\n",
       "0         Clark St & Schiller St   TA1309000024  41.920771 -87.663712   \n",
       "1     Sheridan Rd & Lawrence Ave   TA1309000041  41.957879 -87.649584   \n",
       "2        Aberdeen St & Monroe St          13156  41.920771 -87.663712   \n",
       "3  Franklin St & Adams St (Temp)   TA1309000008  41.920873 -87.663733   \n",
       "4    Cottage Grove Ave & 63rd St   KA1503000054  41.794827 -87.618795   \n",
       "\n",
       "     end_lat    end_lng member_casual  \n",
       "0  41.907993 -87.631501        casual  \n",
       "1  41.969517 -87.654691        casual  \n",
       "2  41.880419 -87.655519        member  \n",
       "3  41.879434 -87.635504        member  \n",
       "4  41.780531 -87.605970        member  "
      ]
     },
     "execution_count": 4,
     "metadata": {},
     "output_type": "execute_result"
    }
   ],
   "source": [
    "# Changing types if needed.\n",
    "td_df['started_at'] = pd.to_datetime(td_df['started_at'])\n",
    "td_df['ended_at'] = pd.to_datetime(td_df['ended_at'])\n",
    "\n",
    "td_df.info()\n",
    "td_df.head()"
   ]
  },
  {
   "cell_type": "markdown",
   "id": "7ea9fee0-7014-4998-8b8e-688ccdd1656d",
   "metadata": {},
   "source": [
    "### Validating data ranges"
   ]
  },
  {
   "cell_type": "code",
   "execution_count": 5,
   "id": "c140f05f-b9c6-46eb-941a-d8c7556629a7",
   "metadata": {},
   "outputs": [
    {
     "name": "stdout",
     "output_type": "stream",
     "text": [
      "rideable_type\n",
      "electric_bike    2915658\n",
      "classic_bike     2682242\n",
      "docked_bike        76549\n",
      "Name: count, dtype: int64\n",
      "member_casual\n",
      "member    3630818\n",
      "casual    2043631\n",
      "Name: count, dtype: int64\n"
     ]
    }
   ],
   "source": [
    "# 'rideable_type' and 'member_casual' should have few limited values\n",
    "for col in td_df[['rideable_type', 'member_casual']]:\n",
    "    print(td_df[col].value_counts())"
   ]
  },
  {
   "cell_type": "markdown",
   "id": "578aac6a-dc43-45c8-97cf-e25b43099417",
   "metadata": {},
   "source": [
    "ok!"
   ]
  },
  {
   "cell_type": "code",
   "execution_count": 6,
   "id": "615dbf20-2055-442e-85c3-2fd8b64d11c2",
   "metadata": {},
   "outputs": [
    {
     "name": "stdout",
     "output_type": "stream",
     "text": [
      "count                          5674449\n",
      "mean     2023-07-27 05:39:54.613007104\n",
      "min                2023-02-01 00:01:34\n",
      "25%                2023-05-29 13:08:15\n",
      "50%                2023-07-27 06:42:33\n",
      "75%                2023-09-24 08:33:28\n",
      "max                2024-01-31 23:59:40\n",
      "Name: started_at, dtype: object \n",
      " \n",
      " count                          5674449\n",
      "mean     2023-07-27 05:58:10.405158400\n",
      "min                2023-02-01 00:08:42\n",
      "25%                2023-05-29 13:33:05\n",
      "50%                2023-07-27 06:58:21\n",
      "75%                2023-09-24 08:59:02\n",
      "max                2024-02-02 00:01:21\n",
      "Name: ended_at, dtype: object\n"
     ]
    }
   ],
   "source": [
    "# 'started_at' should be between 20230201 to 20240131\n",
    "# 'ended_at' should be between 20230201 to close-to 20240131\n",
    "\n",
    "print(td_df['started_at'].describe(), '\\n', '\\n', td_df['ended_at'].describe())"
   ]
  },
  {
   "cell_type": "code",
   "execution_count": 11,
   "id": "7180f75a-5c91-4271-acc9-b2d7e84254b0",
   "metadata": {},
   "outputs": [
    {
     "name": "stdout",
     "output_type": "stream",
     "text": [
      "All values of started_at are inside of range.\n",
      "All values of ended_at are inside of range.\n"
     ]
    }
   ],
   "source": [
    "# Checking range of 'started_at' and 'ended_at'. \n",
    "startDate = datetime.datetime(2023, 2, 1)\n",
    "endDate = datetime.datetime(2024, 1, 31, 23, 59, 59) \n",
    "\n",
    "for date in td_df[['started_at', 'ended_at']]:\n",
    "    if td_df[date].between(startDate, endDate, inclusive='both').all() and 'started' in date:\n",
    "        print(\"All values of {} are inside of range.\".format(date))\n",
    "    elif td_df[date].between(startDate, endDate + datetime.timedelta(days=3), inclusive='both').all() and 'ended' in date: # 3 additional days are included since a rental could start on 20240131 12:58:00 and end some days after.\n",
    "        print(\"All values of {} are inside of range.\".format(date))\n",
    "    else:\n",
    "        print(\"Error detected: at least 1 value of {} is outside of range.\".format(date))"
   ]
  },
  {
   "cell_type": "code",
   "execution_count": 7,
   "id": "63f53cdf-18b1-4d16-9bd1-9f04b3ec8318",
   "metadata": {},
   "outputs": [
    {
     "name": "stdout",
     "output_type": "stream",
     "text": [
      "(292, 13)\n"
     ]
    },
    {
     "data": {
      "text/html": [
       "<div>\n",
       "<style scoped>\n",
       "    .dataframe tbody tr th:only-of-type {\n",
       "        vertical-align: middle;\n",
       "    }\n",
       "\n",
       "    .dataframe tbody tr th {\n",
       "        vertical-align: top;\n",
       "    }\n",
       "\n",
       "    .dataframe thead th {\n",
       "        text-align: right;\n",
       "    }\n",
       "</style>\n",
       "<table border=\"1\" class=\"dataframe\">\n",
       "  <thead>\n",
       "    <tr style=\"text-align: right;\">\n",
       "      <th></th>\n",
       "      <th>ride_id</th>\n",
       "      <th>rideable_type</th>\n",
       "      <th>started_at</th>\n",
       "      <th>ended_at</th>\n",
       "      <th>start_station_name</th>\n",
       "      <th>start_station_id</th>\n",
       "      <th>end_station_name</th>\n",
       "      <th>end_station_id</th>\n",
       "      <th>start_lat</th>\n",
       "      <th>start_lng</th>\n",
       "      <th>end_lat</th>\n",
       "      <th>end_lng</th>\n",
       "      <th>member_casual</th>\n",
       "    </tr>\n",
       "  </thead>\n",
       "  <tbody>\n",
       "    <tr>\n",
       "      <th>189347</th>\n",
       "      <td>4EFC95304E050AA1</td>\n",
       "      <td>electric_bike</td>\n",
       "      <td>2023-02-04 13:08:08</td>\n",
       "      <td>2023-02-04 13:04:52</td>\n",
       "      <td>NaN</td>\n",
       "      <td>NaN</td>\n",
       "      <td>Dearborn St &amp; Monroe St</td>\n",
       "      <td>TA1305000006</td>\n",
       "      <td>41.880000</td>\n",
       "      <td>-87.630000</td>\n",
       "      <td>41.881320</td>\n",
       "      <td>-87.629521</td>\n",
       "      <td>member</td>\n",
       "    </tr>\n",
       "    <tr>\n",
       "      <th>811090</th>\n",
       "      <td>7A4D237E2C99D424</td>\n",
       "      <td>electric_bike</td>\n",
       "      <td>2023-04-04 17:15:08</td>\n",
       "      <td>2023-04-04 17:15:05</td>\n",
       "      <td>Green St &amp; Randolph St*</td>\n",
       "      <td>chargingstx3</td>\n",
       "      <td>Green St &amp; Randolph St*</td>\n",
       "      <td>chargingstx3</td>\n",
       "      <td>41.883615</td>\n",
       "      <td>-87.648556</td>\n",
       "      <td>41.883602</td>\n",
       "      <td>-87.648627</td>\n",
       "      <td>member</td>\n",
       "    </tr>\n",
       "    <tr>\n",
       "      <th>811106</th>\n",
       "      <td>81E1C5175FA5A23D</td>\n",
       "      <td>classic_bike</td>\n",
       "      <td>2023-04-19 14:47:18</td>\n",
       "      <td>2023-04-19 14:47:14</td>\n",
       "      <td>Green St &amp; Randolph St*</td>\n",
       "      <td>chargingstx3</td>\n",
       "      <td>Green St &amp; Randolph St*</td>\n",
       "      <td>chargingstx3</td>\n",
       "      <td>41.883602</td>\n",
       "      <td>-87.648627</td>\n",
       "      <td>41.883602</td>\n",
       "      <td>-87.648627</td>\n",
       "      <td>member</td>\n",
       "    </tr>\n",
       "  </tbody>\n",
       "</table>\n",
       "</div>"
      ],
      "text/plain": [
       "                 ride_id  rideable_type          started_at  \\\n",
       "189347  4EFC95304E050AA1  electric_bike 2023-02-04 13:08:08   \n",
       "811090  7A4D237E2C99D424  electric_bike 2023-04-04 17:15:08   \n",
       "811106  81E1C5175FA5A23D   classic_bike 2023-04-19 14:47:18   \n",
       "\n",
       "                  ended_at       start_station_name start_station_id  \\\n",
       "189347 2023-02-04 13:04:52                      NaN              NaN   \n",
       "811090 2023-04-04 17:15:05  Green St & Randolph St*     chargingstx3   \n",
       "811106 2023-04-19 14:47:14  Green St & Randolph St*     chargingstx3   \n",
       "\n",
       "               end_station_name end_station_id  start_lat  start_lng  \\\n",
       "189347  Dearborn St & Monroe St   TA1305000006  41.880000 -87.630000   \n",
       "811090  Green St & Randolph St*   chargingstx3  41.883615 -87.648556   \n",
       "811106  Green St & Randolph St*   chargingstx3  41.883602 -87.648627   \n",
       "\n",
       "          end_lat    end_lng member_casual  \n",
       "189347  41.881320 -87.629521        member  \n",
       "811090  41.883602 -87.648627        member  \n",
       "811106  41.883602 -87.648627        member  "
      ]
     },
     "execution_count": 7,
     "metadata": {},
     "output_type": "execute_result"
    }
   ],
   "source": [
    "# 'started_at' should happened before 'ended_at'\n",
    "\n",
    "## Check if there are errors\n",
    "print(td_df[td_df['started_at'] > td_df['ended_at']].shape)\n",
    "td_df[td_df['started_at'] > td_df['ended_at']].head(3)"
   ]
  },
  {
   "cell_type": "markdown",
   "id": "4d33a7bd-330c-4f18-816d-c0c635c23c56",
   "metadata": {},
   "source": [
    "There are 292 observations where the 'start_at' time happens after the 'ended_at' time, which is not physically possible. As it was stated on the [Data description](#Data-description) section, this will also be a good time to **ask for clarification** about this to those responsible of collecting the data, to see what could have cause these errors and evaluate a possible fix.\n",
    "\n",
    "In this case, I will assume that the values exchange positions, this is, that for these 292 records, the 'started_at' values correspond to 'ended_at' values and vice versa."
   ]
  },
  {
   "cell_type": "code",
   "execution_count": 8,
   "id": "46ee3e1c-c00f-4c24-8e9f-d55dcbee3a6a",
   "metadata": {},
   "outputs": [
    {
     "data": {
      "text/html": [
       "<div>\n",
       "<style scoped>\n",
       "    .dataframe tbody tr th:only-of-type {\n",
       "        vertical-align: middle;\n",
       "    }\n",
       "\n",
       "    .dataframe tbody tr th {\n",
       "        vertical-align: top;\n",
       "    }\n",
       "\n",
       "    .dataframe thead th {\n",
       "        text-align: right;\n",
       "    }\n",
       "</style>\n",
       "<table border=\"1\" class=\"dataframe\">\n",
       "  <thead>\n",
       "    <tr style=\"text-align: right;\">\n",
       "      <th></th>\n",
       "      <th>ride_id</th>\n",
       "      <th>rideable_type</th>\n",
       "      <th>started_at</th>\n",
       "      <th>ended_at</th>\n",
       "      <th>start_station_name</th>\n",
       "      <th>start_station_id</th>\n",
       "      <th>end_station_name</th>\n",
       "      <th>end_station_id</th>\n",
       "      <th>start_lat</th>\n",
       "      <th>start_lng</th>\n",
       "      <th>end_lat</th>\n",
       "      <th>end_lng</th>\n",
       "      <th>member_casual</th>\n",
       "    </tr>\n",
       "  </thead>\n",
       "  <tbody>\n",
       "    <tr>\n",
       "      <th>189347</th>\n",
       "      <td>4EFC95304E050AA1</td>\n",
       "      <td>electric_bike</td>\n",
       "      <td>2023-02-04 13:04:52</td>\n",
       "      <td>2023-02-04 13:08:08</td>\n",
       "      <td>NaN</td>\n",
       "      <td>NaN</td>\n",
       "      <td>Dearborn St &amp; Monroe St</td>\n",
       "      <td>TA1305000006</td>\n",
       "      <td>41.880000</td>\n",
       "      <td>-87.630000</td>\n",
       "      <td>41.881320</td>\n",
       "      <td>-87.629521</td>\n",
       "      <td>member</td>\n",
       "    </tr>\n",
       "    <tr>\n",
       "      <th>811090</th>\n",
       "      <td>7A4D237E2C99D424</td>\n",
       "      <td>electric_bike</td>\n",
       "      <td>2023-04-04 17:15:05</td>\n",
       "      <td>2023-04-04 17:15:08</td>\n",
       "      <td>Green St &amp; Randolph St*</td>\n",
       "      <td>chargingstx3</td>\n",
       "      <td>Green St &amp; Randolph St*</td>\n",
       "      <td>chargingstx3</td>\n",
       "      <td>41.883615</td>\n",
       "      <td>-87.648556</td>\n",
       "      <td>41.883602</td>\n",
       "      <td>-87.648627</td>\n",
       "      <td>member</td>\n",
       "    </tr>\n",
       "    <tr>\n",
       "      <th>811106</th>\n",
       "      <td>81E1C5175FA5A23D</td>\n",
       "      <td>classic_bike</td>\n",
       "      <td>2023-04-19 14:47:14</td>\n",
       "      <td>2023-04-19 14:47:18</td>\n",
       "      <td>Green St &amp; Randolph St*</td>\n",
       "      <td>chargingstx3</td>\n",
       "      <td>Green St &amp; Randolph St*</td>\n",
       "      <td>chargingstx3</td>\n",
       "      <td>41.883602</td>\n",
       "      <td>-87.648627</td>\n",
       "      <td>41.883602</td>\n",
       "      <td>-87.648627</td>\n",
       "      <td>member</td>\n",
       "    </tr>\n",
       "  </tbody>\n",
       "</table>\n",
       "</div>"
      ],
      "text/plain": [
       "                 ride_id  rideable_type          started_at  \\\n",
       "189347  4EFC95304E050AA1  electric_bike 2023-02-04 13:04:52   \n",
       "811090  7A4D237E2C99D424  electric_bike 2023-04-04 17:15:05   \n",
       "811106  81E1C5175FA5A23D   classic_bike 2023-04-19 14:47:14   \n",
       "\n",
       "                  ended_at       start_station_name start_station_id  \\\n",
       "189347 2023-02-04 13:08:08                      NaN              NaN   \n",
       "811090 2023-04-04 17:15:08  Green St & Randolph St*     chargingstx3   \n",
       "811106 2023-04-19 14:47:18  Green St & Randolph St*     chargingstx3   \n",
       "\n",
       "               end_station_name end_station_id  start_lat  start_lng  \\\n",
       "189347  Dearborn St & Monroe St   TA1305000006  41.880000 -87.630000   \n",
       "811090  Green St & Randolph St*   chargingstx3  41.883615 -87.648556   \n",
       "811106  Green St & Randolph St*   chargingstx3  41.883602 -87.648627   \n",
       "\n",
       "          end_lat    end_lng member_casual  \n",
       "189347  41.881320 -87.629521        member  \n",
       "811090  41.883602 -87.648627        member  \n",
       "811106  41.883602 -87.648627        member  "
      ]
     },
     "execution_count": 8,
     "metadata": {},
     "output_type": "execute_result"
    }
   ],
   "source": [
    "## Swapping values.\n",
    "swap_idx = td_df[td_df['started_at'] > td_df['ended_at']].index\n",
    "\n",
    "td_df.loc[swap_idx, ['started_at','ended_at']] = td_df.loc[swap_idx, ['ended_at','started_at']].values\n",
    "td_df.loc[swap_idx].head(3)"
   ]
  },
  {
   "cell_type": "code",
   "execution_count": 9,
   "id": "ce93f16a-8fd1-4b13-82aa-15fc4ed88985",
   "metadata": {},
   "outputs": [
    {
     "data": {
      "text/html": [
       "<div>\n",
       "<style scoped>\n",
       "    .dataframe tbody tr th:only-of-type {\n",
       "        vertical-align: middle;\n",
       "    }\n",
       "\n",
       "    .dataframe tbody tr th {\n",
       "        vertical-align: top;\n",
       "    }\n",
       "\n",
       "    .dataframe thead th {\n",
       "        text-align: right;\n",
       "    }\n",
       "</style>\n",
       "<table border=\"1\" class=\"dataframe\">\n",
       "  <thead>\n",
       "    <tr style=\"text-align: right;\">\n",
       "      <th></th>\n",
       "      <th>ride_id</th>\n",
       "      <th>rideable_type</th>\n",
       "      <th>started_at</th>\n",
       "      <th>ended_at</th>\n",
       "      <th>start_station_name</th>\n",
       "      <th>start_station_id</th>\n",
       "      <th>end_station_name</th>\n",
       "      <th>end_station_id</th>\n",
       "      <th>start_lat</th>\n",
       "      <th>start_lng</th>\n",
       "      <th>end_lat</th>\n",
       "      <th>end_lng</th>\n",
       "      <th>member_casual</th>\n",
       "    </tr>\n",
       "  </thead>\n",
       "  <tbody>\n",
       "  </tbody>\n",
       "</table>\n",
       "</div>"
      ],
      "text/plain": [
       "Empty DataFrame\n",
       "Columns: [ride_id, rideable_type, started_at, ended_at, start_station_name, start_station_id, end_station_name, end_station_id, start_lat, start_lng, end_lat, end_lng, member_casual]\n",
       "Index: []"
      ]
     },
     "execution_count": 9,
     "metadata": {},
     "output_type": "execute_result"
    }
   ],
   "source": [
    "## Check if errors persist\n",
    "td_df[td_df['started_at'] > td_df['ended_at']]"
   ]
  },
  {
   "cell_type": "markdown",
   "id": "26b5682e-839a-463d-802c-4a8f40bd767a",
   "metadata": {},
   "source": [
    "The error was corrected."
   ]
  },
  {
   "cell_type": "code",
   "execution_count": 10,
   "id": "81b19349-d6e7-49c5-a80d-a087e1c9c321",
   "metadata": {},
   "outputs": [],
   "source": [
    "# 'start_lat', 'start_lng', 'end_lat', 'end_lng' should be inside or near Chicago.\n",
    "## Chicago was defined as Google Maps shows it. Coordinates taken from Google Maps."
   ]
  },
  {
   "cell_type": "markdown",
   "id": "d367e640-433f-4667-b2e6-ed4214a7a688",
   "metadata": {},
   "source": [
    "Debo mejorar la presentacion de esto\n",
    "\n",
    "<img src=\"./Chicago_topLeft.png\" alt=\"map of Chicago with the top left coordinate\" style=\"height: 400px;\"/>\n",
    "<img src=\"./Chicago_bottomRight.png\" alt=\"map of Chicago with the bottom right coordinate\" style=\"height: 400px;\"/>\n"
   ]
  },
  {
   "cell_type": "code",
   "execution_count": 11,
   "id": "b45151e5-45be-468d-803f-436adac9f026",
   "metadata": {},
   "outputs": [
    {
     "name": "stdout",
     "output_type": "stream",
     "text": [
      "count    5674449.000000\n",
      "mean          41.902944\n",
      "std            0.045007\n",
      "min           41.630000\n",
      "25%           41.880958\n",
      "50%           41.899123\n",
      "75%           41.930000\n",
      "max           42.070000\n",
      "Name: start_lat, dtype: object \n",
      " \n",
      "\n",
      "count    5674449.000000\n",
      "mean         -87.647023\n",
      "std            0.027300\n",
      "min          -87.940000\n",
      "25%          -87.660000\n",
      "50%          -87.644025\n",
      "75%          -87.629912\n",
      "max          -87.460000\n",
      "Name: start_lng, dtype: object \n",
      " \n",
      "\n",
      "count    5667298.000000\n",
      "mean          41.903285\n",
      "std            0.054472\n",
      "min            0.000000\n",
      "25%           41.881032\n",
      "50%           41.900000\n",
      "75%           41.930000\n",
      "max           42.180000\n",
      "Name: end_lat, dtype: object \n",
      " \n",
      "\n",
      "count    5667298.000000\n",
      "mean         -87.647191\n",
      "std            0.069417\n",
      "min          -88.160000\n",
      "25%          -87.660274\n",
      "50%          -87.644098\n",
      "75%          -87.630000\n",
      "max            0.000000\n",
      "Name: end_lng, dtype: object \n",
      " \n",
      "\n"
     ]
    }
   ],
   "source": [
    "for col in td_df[['start_lat','start_lng','end_lat','end_lng']]:\n",
    "    print(td_df[col].describe().apply(lambda x: format(x, 'f')),'\\n','\\n')"
   ]
  },
  {
   "cell_type": "code",
   "execution_count": 12,
   "id": "8e212dab-65b7-4edb-8125-3f0090046c4f",
   "metadata": {},
   "outputs": [
    {
     "name": "stdout",
     "output_type": "stream",
     "text": [
      "All values of start_lat are inside of range.\n",
      "All values of start_lng are inside of range.\n",
      "Error detected: at least 1 value of end_lat is outside of range.\n",
      "Error detected: at least 1 value of end_lng is outside of range.\n"
     ]
    }
   ],
   "source": [
    "# Geographic information of Chicago.\n",
    "ChiMinLat = 41.60\n",
    "ChiMaxLat = 42.20\n",
    "ChiMinLng = -89.00\n",
    "ChiMaxLng = -87.00\n",
    "\n",
    "## Check is lat and long are inside or near Chicago.\n",
    "for loca in td_df[['start_lat','start_lng','end_lat','end_lng']].dropna():\n",
    "    if \"lat\" in loca:\n",
    "        if td_df[loca].between(ChiMinLat, ChiMaxLat, inclusive='both').all():\n",
    "            print(\"All values of {} are inside of range.\".format(loca))\n",
    "        else:\n",
    "            print(\"Error detected: at least 1 value of {} is outside of range.\".format(loca))\n",
    "    elif \"lng\" in loca:\n",
    "        if td_df[loca].between(ChiMinLng, ChiMaxLng, inclusive='both').all():\n",
    "            print(\"All values of {} are inside of range.\".format(loca))\n",
    "        else:\n",
    "            print(\"Error detected: at least 1 value of {} is outside of range.\".format(loca))    "
   ]
  },
  {
   "cell_type": "code",
   "execution_count": 13,
   "id": "949fe877-7740-4cb6-9dab-cb6ba1fa32b3",
   "metadata": {},
   "outputs": [
    {
     "data": {
      "text/html": [
       "<div>\n",
       "<style scoped>\n",
       "    .dataframe tbody tr th:only-of-type {\n",
       "        vertical-align: middle;\n",
       "    }\n",
       "\n",
       "    .dataframe tbody tr th {\n",
       "        vertical-align: top;\n",
       "    }\n",
       "\n",
       "    .dataframe thead th {\n",
       "        text-align: right;\n",
       "    }\n",
       "</style>\n",
       "<table border=\"1\" class=\"dataframe\">\n",
       "  <thead>\n",
       "    <tr style=\"text-align: right;\">\n",
       "      <th></th>\n",
       "      <th>ride_id</th>\n",
       "      <th>rideable_type</th>\n",
       "      <th>started_at</th>\n",
       "      <th>ended_at</th>\n",
       "      <th>start_station_name</th>\n",
       "      <th>start_station_id</th>\n",
       "      <th>end_station_name</th>\n",
       "      <th>end_station_id</th>\n",
       "      <th>start_lat</th>\n",
       "      <th>start_lng</th>\n",
       "      <th>end_lat</th>\n",
       "      <th>end_lng</th>\n",
       "      <th>member_casual</th>\n",
       "    </tr>\n",
       "  </thead>\n",
       "  <tbody>\n",
       "    <tr>\n",
       "      <th>1959564</th>\n",
       "      <td>873D50153BBC0686</td>\n",
       "      <td>electric_bike</td>\n",
       "      <td>2023-06-15 12:38:05</td>\n",
       "      <td>2023-06-15 12:38:41</td>\n",
       "      <td>OH Charging Stx - Test</td>\n",
       "      <td>OH Charging Stx - Test</td>\n",
       "      <td>OH Charging Stx - Test</td>\n",
       "      <td>OH Charging Stx - Test</td>\n",
       "      <td>41.863166</td>\n",
       "      <td>-87.679811</td>\n",
       "      <td>0.0</td>\n",
       "      <td>0.0</td>\n",
       "      <td>member</td>\n",
       "    </tr>\n",
       "    <tr>\n",
       "      <th>1968875</th>\n",
       "      <td>ADFF57D27B5BF9D2</td>\n",
       "      <td>classic_bike</td>\n",
       "      <td>2023-06-15 09:38:07</td>\n",
       "      <td>2023-06-15 09:42:57</td>\n",
       "      <td>State St &amp; 54th St</td>\n",
       "      <td>646</td>\n",
       "      <td>OH Charging Stx - Test</td>\n",
       "      <td>OH Charging Stx - Test</td>\n",
       "      <td>41.796642</td>\n",
       "      <td>-87.625923</td>\n",
       "      <td>0.0</td>\n",
       "      <td>0.0</td>\n",
       "      <td>casual</td>\n",
       "    </tr>\n",
       "    <tr>\n",
       "      <th>3223374</th>\n",
       "      <td>43107577DF9B498D</td>\n",
       "      <td>classic_bike</td>\n",
       "      <td>2023-08-21 18:43:22</td>\n",
       "      <td>2023-08-21 22:05:55</td>\n",
       "      <td>Dearborn St &amp; Erie St</td>\n",
       "      <td>13045</td>\n",
       "      <td>Stony Island Ave &amp; 63rd St</td>\n",
       "      <td>653B</td>\n",
       "      <td>41.893992</td>\n",
       "      <td>-87.629318</td>\n",
       "      <td>0.0</td>\n",
       "      <td>0.0</td>\n",
       "      <td>casual</td>\n",
       "    </tr>\n",
       "  </tbody>\n",
       "</table>\n",
       "</div>"
      ],
      "text/plain": [
       "                  ride_id  rideable_type          started_at  \\\n",
       "1959564  873D50153BBC0686  electric_bike 2023-06-15 12:38:05   \n",
       "1968875  ADFF57D27B5BF9D2   classic_bike 2023-06-15 09:38:07   \n",
       "3223374  43107577DF9B498D   classic_bike 2023-08-21 18:43:22   \n",
       "\n",
       "                   ended_at      start_station_name        start_station_id  \\\n",
       "1959564 2023-06-15 12:38:41  OH Charging Stx - Test  OH Charging Stx - Test   \n",
       "1968875 2023-06-15 09:42:57      State St & 54th St                     646   \n",
       "3223374 2023-08-21 22:05:55   Dearborn St & Erie St                   13045   \n",
       "\n",
       "                   end_station_name          end_station_id  start_lat  \\\n",
       "1959564      OH Charging Stx - Test  OH Charging Stx - Test  41.863166   \n",
       "1968875      OH Charging Stx - Test  OH Charging Stx - Test  41.796642   \n",
       "3223374  Stony Island Ave & 63rd St                    653B  41.893992   \n",
       "\n",
       "         start_lng  end_lat  end_lng member_casual  \n",
       "1959564 -87.679811      0.0      0.0        member  \n",
       "1968875 -87.625923      0.0      0.0        casual  \n",
       "3223374 -87.629318      0.0      0.0        casual  "
      ]
     },
     "execution_count": 13,
     "metadata": {},
     "output_type": "execute_result"
    }
   ],
   "source": [
    "## Check what are the latitude errors specifically. \n",
    "td_df[(td_df['end_lat'].between(ChiMinLat, ChiMaxLat, inclusive='both') == False)].dropna()"
   ]
  },
  {
   "cell_type": "code",
   "execution_count": 14,
   "id": "ae626cf6-a1a2-4021-b51b-856c4cc7553a",
   "metadata": {},
   "outputs": [
    {
     "data": {
      "text/html": [
       "<div>\n",
       "<style scoped>\n",
       "    .dataframe tbody tr th:only-of-type {\n",
       "        vertical-align: middle;\n",
       "    }\n",
       "\n",
       "    .dataframe tbody tr th {\n",
       "        vertical-align: top;\n",
       "    }\n",
       "\n",
       "    .dataframe thead th {\n",
       "        text-align: right;\n",
       "    }\n",
       "</style>\n",
       "<table border=\"1\" class=\"dataframe\">\n",
       "  <thead>\n",
       "    <tr style=\"text-align: right;\">\n",
       "      <th></th>\n",
       "      <th>ride_id</th>\n",
       "      <th>rideable_type</th>\n",
       "      <th>started_at</th>\n",
       "      <th>ended_at</th>\n",
       "      <th>start_station_name</th>\n",
       "      <th>start_station_id</th>\n",
       "      <th>end_station_name</th>\n",
       "      <th>end_station_id</th>\n",
       "      <th>start_lat</th>\n",
       "      <th>start_lng</th>\n",
       "      <th>end_lat</th>\n",
       "      <th>end_lng</th>\n",
       "      <th>member_casual</th>\n",
       "    </tr>\n",
       "  </thead>\n",
       "  <tbody>\n",
       "    <tr>\n",
       "      <th>1959564</th>\n",
       "      <td>873D50153BBC0686</td>\n",
       "      <td>electric_bike</td>\n",
       "      <td>2023-06-15 12:38:05</td>\n",
       "      <td>2023-06-15 12:38:41</td>\n",
       "      <td>OH Charging Stx - Test</td>\n",
       "      <td>OH Charging Stx - Test</td>\n",
       "      <td>OH Charging Stx - Test</td>\n",
       "      <td>OH Charging Stx - Test</td>\n",
       "      <td>41.863166</td>\n",
       "      <td>-87.679811</td>\n",
       "      <td>0.0</td>\n",
       "      <td>0.0</td>\n",
       "      <td>member</td>\n",
       "    </tr>\n",
       "    <tr>\n",
       "      <th>1968875</th>\n",
       "      <td>ADFF57D27B5BF9D2</td>\n",
       "      <td>classic_bike</td>\n",
       "      <td>2023-06-15 09:38:07</td>\n",
       "      <td>2023-06-15 09:42:57</td>\n",
       "      <td>State St &amp; 54th St</td>\n",
       "      <td>646</td>\n",
       "      <td>OH Charging Stx - Test</td>\n",
       "      <td>OH Charging Stx - Test</td>\n",
       "      <td>41.796642</td>\n",
       "      <td>-87.625923</td>\n",
       "      <td>0.0</td>\n",
       "      <td>0.0</td>\n",
       "      <td>casual</td>\n",
       "    </tr>\n",
       "    <tr>\n",
       "      <th>3223374</th>\n",
       "      <td>43107577DF9B498D</td>\n",
       "      <td>classic_bike</td>\n",
       "      <td>2023-08-21 18:43:22</td>\n",
       "      <td>2023-08-21 22:05:55</td>\n",
       "      <td>Dearborn St &amp; Erie St</td>\n",
       "      <td>13045</td>\n",
       "      <td>Stony Island Ave &amp; 63rd St</td>\n",
       "      <td>653B</td>\n",
       "      <td>41.893992</td>\n",
       "      <td>-87.629318</td>\n",
       "      <td>0.0</td>\n",
       "      <td>0.0</td>\n",
       "      <td>casual</td>\n",
       "    </tr>\n",
       "  </tbody>\n",
       "</table>\n",
       "</div>"
      ],
      "text/plain": [
       "                  ride_id  rideable_type          started_at  \\\n",
       "1959564  873D50153BBC0686  electric_bike 2023-06-15 12:38:05   \n",
       "1968875  ADFF57D27B5BF9D2   classic_bike 2023-06-15 09:38:07   \n",
       "3223374  43107577DF9B498D   classic_bike 2023-08-21 18:43:22   \n",
       "\n",
       "                   ended_at      start_station_name        start_station_id  \\\n",
       "1959564 2023-06-15 12:38:41  OH Charging Stx - Test  OH Charging Stx - Test   \n",
       "1968875 2023-06-15 09:42:57      State St & 54th St                     646   \n",
       "3223374 2023-08-21 22:05:55   Dearborn St & Erie St                   13045   \n",
       "\n",
       "                   end_station_name          end_station_id  start_lat  \\\n",
       "1959564      OH Charging Stx - Test  OH Charging Stx - Test  41.863166   \n",
       "1968875      OH Charging Stx - Test  OH Charging Stx - Test  41.796642   \n",
       "3223374  Stony Island Ave & 63rd St                    653B  41.893992   \n",
       "\n",
       "         start_lng  end_lat  end_lng member_casual  \n",
       "1959564 -87.679811      0.0      0.0        member  \n",
       "1968875 -87.625923      0.0      0.0        casual  \n",
       "3223374 -87.629318      0.0      0.0        casual  "
      ]
     },
     "execution_count": 14,
     "metadata": {},
     "output_type": "execute_result"
    }
   ],
   "source": [
    "## Check what are the longitude errors specifically. \n",
    "td_df[(td_df['end_lng'].between(ChiMinLng, ChiMaxLng, inclusive='both') == False)].dropna()"
   ]
  },
  {
   "cell_type": "markdown",
   "id": "c80651ca-602e-49e1-bcdf-5d4b41443fb1",
   "metadata": {},
   "source": [
    "They are the same 3 observations. It is affordable to delete this observation and don't consider them on the Analysis phase."
   ]
  },
  {
   "cell_type": "code",
   "execution_count": 15,
   "id": "ad4cf9ed-29f6-4f0f-9660-e1fa774d4c0e",
   "metadata": {},
   "outputs": [
    {
     "name": "stdout",
     "output_type": "stream",
     "text": [
      "(5674449, 13) (5674446, 13)\n"
     ]
    }
   ],
   "source": [
    "rows2remove = td_df[(td_df['end_lng'].between(ChiMinLng, ChiMaxLng, inclusive='both') == False)].dropna().index\n",
    "td_clean = td_df.drop(rows2remove)\n",
    "\n",
    "print(td_df.shape, td_clean.shape)"
   ]
  },
  {
   "cell_type": "markdown",
   "id": "1c4d1c2c-ec29-4d17-96a6-850d83be0889",
   "metadata": {},
   "source": [
    "### Duplicated observations"
   ]
  },
  {
   "cell_type": "code",
   "execution_count": 16,
   "id": "00f0623c-e084-48bb-bd74-bfefe023f983",
   "metadata": {},
   "outputs": [
    {
     "data": {
      "text/plain": [
       "False"
      ]
     },
     "execution_count": 16,
     "metadata": {},
     "output_type": "execute_result"
    }
   ],
   "source": [
    "# Check if there are duplicated rows.\n",
    "## If False, ok because it means there are no duplicated observations.\n",
    "td_clean.duplicated().any()"
   ]
  },
  {
   "cell_type": "markdown",
   "id": "edc2a15c-eb34-40d4-b1fe-4d515ffd012c",
   "metadata": {},
   "source": [
    "### Duplicated values: 'ride_id'"
   ]
  },
  {
   "cell_type": "code",
   "execution_count": 17,
   "id": "191d99e0-cfd4-4113-823b-b16a24c7a833",
   "metadata": {},
   "outputs": [
    {
     "name": "stdout",
     "output_type": "stream",
     "text": [
      "'ride_id' is a valid unique identifier.\n"
     ]
    }
   ],
   "source": [
    "# 'ride_id' should have unique values because is the unique identifier of the data.\n",
    "\n",
    "## ride_id\n",
    "if td_clean['ride_id'].nunique() == td_clean.shape[0]:\n",
    "    print(\"'ride_id' is a valid unique identifier.\")\n",
    "else:\n",
    "    print(\"Error detected: 'ride_id' is not a valid identifier, it has repeated values.\")"
   ]
  },
  {
   "cell_type": "markdown",
   "id": "c330e3f7-efeb-45e1-b925-fa9ccc40414e",
   "metadata": {},
   "source": [
    "### Duplicated values: stations"
   ]
  },
  {
   "cell_type": "code",
   "execution_count": 18,
   "id": "57dd2e3a-7aaa-4776-b5a1-fdba9b4c0c30",
   "metadata": {},
   "outputs": [
    {
     "data": {
      "text/html": [
       "<div>\n",
       "<style scoped>\n",
       "    .dataframe tbody tr th:only-of-type {\n",
       "        vertical-align: middle;\n",
       "    }\n",
       "\n",
       "    .dataframe tbody tr th {\n",
       "        vertical-align: top;\n",
       "    }\n",
       "\n",
       "    .dataframe thead th {\n",
       "        text-align: right;\n",
       "    }\n",
       "</style>\n",
       "<table border=\"1\" class=\"dataframe\">\n",
       "  <thead>\n",
       "    <tr style=\"text-align: right;\">\n",
       "      <th></th>\n",
       "      <th>station_name</th>\n",
       "      <th>station_id</th>\n",
       "    </tr>\n",
       "  </thead>\n",
       "  <tbody>\n",
       "    <tr>\n",
       "      <th>0</th>\n",
       "      <td>2112 W Peterson Ave</td>\n",
       "      <td>KA1504000155</td>\n",
       "    </tr>\n",
       "    <tr>\n",
       "      <th>1</th>\n",
       "      <td>410</td>\n",
       "      <td>410</td>\n",
       "    </tr>\n",
       "    <tr>\n",
       "      <th>2</th>\n",
       "      <td>63rd St Beach</td>\n",
       "      <td>15491</td>\n",
       "    </tr>\n",
       "    <tr>\n",
       "      <th>3</th>\n",
       "      <td>900 W Harrison St</td>\n",
       "      <td>13028</td>\n",
       "    </tr>\n",
       "    <tr>\n",
       "      <th>4</th>\n",
       "      <td>Aberdeen St &amp; Jackson Blvd</td>\n",
       "      <td>13157</td>\n",
       "    </tr>\n",
       "    <tr>\n",
       "      <th>...</th>\n",
       "      <td>...</td>\n",
       "      <td>...</td>\n",
       "    </tr>\n",
       "    <tr>\n",
       "      <th>1628</th>\n",
       "      <td>Woodlawn Ave &amp; 58th St</td>\n",
       "      <td>22002</td>\n",
       "    </tr>\n",
       "    <tr>\n",
       "      <th>1629</th>\n",
       "      <td>Woodlawn Ave &amp; 75th St</td>\n",
       "      <td>569</td>\n",
       "    </tr>\n",
       "    <tr>\n",
       "      <th>1630</th>\n",
       "      <td>Woodlawn Ave &amp; Lake Park Ave</td>\n",
       "      <td>KA1503000065</td>\n",
       "    </tr>\n",
       "    <tr>\n",
       "      <th>1631</th>\n",
       "      <td>Yates Blvd &amp; 75th St</td>\n",
       "      <td>KA1503000024</td>\n",
       "    </tr>\n",
       "    <tr>\n",
       "      <th>1632</th>\n",
       "      <td>Yates Blvd &amp; 93rd St</td>\n",
       "      <td>20237</td>\n",
       "    </tr>\n",
       "  </tbody>\n",
       "</table>\n",
       "<p>1633 rows × 2 columns</p>\n",
       "</div>"
      ],
      "text/plain": [
       "                      station_name    station_id\n",
       "0              2112 W Peterson Ave  KA1504000155\n",
       "1                              410           410\n",
       "2                    63rd St Beach         15491\n",
       "3                900 W Harrison St         13028\n",
       "4       Aberdeen St & Jackson Blvd         13157\n",
       "...                            ...           ...\n",
       "1628        Woodlawn Ave & 58th St         22002\n",
       "1629        Woodlawn Ave & 75th St           569\n",
       "1630  Woodlawn Ave & Lake Park Ave  KA1503000065\n",
       "1631          Yates Blvd & 75th St  KA1503000024\n",
       "1632          Yates Blvd & 93rd St         20237\n",
       "\n",
       "[1633 rows x 2 columns]"
      ]
     },
     "execution_count": 18,
     "metadata": {},
     "output_type": "execute_result"
    }
   ],
   "source": [
    "# start_station_name, end_station_name, start_station_id, end_station_id\n",
    "tdcs = td_clean[['start_station_name', 'start_station_id']].rename(columns={\"start_station_name\":\"station_name\",\"start_station_id\":\"station_id\",})\n",
    "tdce = td_clean[['end_station_name', 'end_station_id']].rename(columns={\"end_station_name\":\"station_name\",\"end_station_id\":\"station_id\",})\n",
    "\n",
    "stations = pd.concat([tdcs, tdce])\n",
    "\n",
    "stations = stations.drop_duplicates().sort_values(by=['station_name']).dropna().reset_index(drop=True)\n",
    "\n",
    "stations"
   ]
  },
  {
   "cell_type": "code",
   "execution_count": 19,
   "id": "68c964ac-1eb5-4bb6-a6f9-6bc9aa26ea28",
   "metadata": {},
   "outputs": [
    {
     "data": {
      "text/html": [
       "<div>\n",
       "<style scoped>\n",
       "    .dataframe tbody tr th:only-of-type {\n",
       "        vertical-align: middle;\n",
       "    }\n",
       "\n",
       "    .dataframe tbody tr th {\n",
       "        vertical-align: top;\n",
       "    }\n",
       "\n",
       "    .dataframe thead th {\n",
       "        text-align: right;\n",
       "    }\n",
       "</style>\n",
       "<table border=\"1\" class=\"dataframe\">\n",
       "  <thead>\n",
       "    <tr style=\"text-align: right;\">\n",
       "      <th></th>\n",
       "      <th>station_name</th>\n",
       "      <th>station_id</th>\n",
       "    </tr>\n",
       "  </thead>\n",
       "  <tbody>\n",
       "    <tr>\n",
       "      <th>1</th>\n",
       "      <td>410</td>\n",
       "      <td>410</td>\n",
       "    </tr>\n",
       "    <tr>\n",
       "      <th>117</th>\n",
       "      <td>Campbell Ave &amp; Augusta Blvd</td>\n",
       "      <td>410</td>\n",
       "    </tr>\n",
       "    <tr>\n",
       "      <th>630</th>\n",
       "      <td>OH Charging Stx - Test</td>\n",
       "      <td>OH Charging Stx - Test</td>\n",
       "    </tr>\n",
       "  </tbody>\n",
       "</table>\n",
       "</div>"
      ],
      "text/plain": [
       "                    station_name              station_id\n",
       "1                            410                     410\n",
       "117  Campbell Ave & Augusta Blvd                     410\n",
       "630       OH Charging Stx - Test  OH Charging Stx - Test"
      ]
     },
     "execution_count": 19,
     "metadata": {},
     "output_type": "execute_result"
    }
   ],
   "source": [
    "## Spotting station ids in the station_name column\n",
    "stations[stations['station_id'].isin(list(stations['station_name']))]"
   ]
  },
  {
   "cell_type": "code",
   "execution_count": 20,
   "id": "4513c286-c84f-46f3-b313-f11cca4f2e1b",
   "metadata": {},
   "outputs": [
    {
     "data": {
      "text/html": [
       "<div>\n",
       "<style scoped>\n",
       "    .dataframe tbody tr th:only-of-type {\n",
       "        vertical-align: middle;\n",
       "    }\n",
       "\n",
       "    .dataframe tbody tr th {\n",
       "        vertical-align: top;\n",
       "    }\n",
       "\n",
       "    .dataframe thead th {\n",
       "        text-align: right;\n",
       "    }\n",
       "</style>\n",
       "<table border=\"1\" class=\"dataframe\">\n",
       "  <thead>\n",
       "    <tr style=\"text-align: right;\">\n",
       "      <th></th>\n",
       "      <th>station_name</th>\n",
       "      <th>station_id</th>\n",
       "    </tr>\n",
       "  </thead>\n",
       "  <tbody>\n",
       "    <tr>\n",
       "      <th>1</th>\n",
       "      <td>410</td>\n",
       "      <td>410</td>\n",
       "    </tr>\n",
       "    <tr>\n",
       "      <th>630</th>\n",
       "      <td>OH Charging Stx - Test</td>\n",
       "      <td>OH Charging Stx - Test</td>\n",
       "    </tr>\n",
       "  </tbody>\n",
       "</table>\n",
       "</div>"
      ],
      "text/plain": [
       "               station_name              station_id\n",
       "1                       410                     410\n",
       "630  OH Charging Stx - Test  OH Charging Stx - Test"
      ]
     },
     "execution_count": 20,
     "metadata": {},
     "output_type": "execute_result"
    }
   ],
   "source": [
    "## Spotting station names in the station_id column\n",
    "stations[stations['station_name'].isin(list(stations['station_id']))]"
   ]
  },
  {
   "cell_type": "code",
   "execution_count": 21,
   "id": "cc26a1a7-9390-4d06-af8d-4532f6ec4516",
   "metadata": {},
   "outputs": [
    {
     "data": {
      "text/html": [
       "<div>\n",
       "<style scoped>\n",
       "    .dataframe tbody tr th:only-of-type {\n",
       "        vertical-align: middle;\n",
       "    }\n",
       "\n",
       "    .dataframe tbody tr th {\n",
       "        vertical-align: top;\n",
       "    }\n",
       "\n",
       "    .dataframe thead th {\n",
       "        text-align: right;\n",
       "    }\n",
       "</style>\n",
       "<table border=\"1\" class=\"dataframe\">\n",
       "  <thead>\n",
       "    <tr style=\"text-align: right;\">\n",
       "      <th></th>\n",
       "      <th>station_name</th>\n",
       "      <th>station_id</th>\n",
       "    </tr>\n",
       "  </thead>\n",
       "  <tbody>\n",
       "    <tr>\n",
       "      <th>1</th>\n",
       "      <td>410</td>\n",
       "      <td>410</td>\n",
       "    </tr>\n",
       "    <tr>\n",
       "      <th>117</th>\n",
       "      <td>Campbell Ave &amp; Augusta Blvd</td>\n",
       "      <td>410</td>\n",
       "    </tr>\n",
       "  </tbody>\n",
       "</table>\n",
       "</div>"
      ],
      "text/plain": [
       "                    station_name station_id\n",
       "1                            410        410\n",
       "117  Campbell Ave & Augusta Blvd        410"
      ]
     },
     "execution_count": 21,
     "metadata": {},
     "output_type": "execute_result"
    }
   ],
   "source": [
    "# Get '410' station name.\n",
    "stations[(stations['station_id'] == '410')].drop_duplicates() "
   ]
  },
  {
   "cell_type": "code",
   "execution_count": 22,
   "id": "f6d8f519-0834-4760-848e-57587a5638a2",
   "metadata": {},
   "outputs": [
    {
     "data": {
      "text/html": [
       "<div>\n",
       "<style scoped>\n",
       "    .dataframe tbody tr th:only-of-type {\n",
       "        vertical-align: middle;\n",
       "    }\n",
       "\n",
       "    .dataframe tbody tr th {\n",
       "        vertical-align: top;\n",
       "    }\n",
       "\n",
       "    .dataframe thead th {\n",
       "        text-align: right;\n",
       "    }\n",
       "</style>\n",
       "<table border=\"1\" class=\"dataframe\">\n",
       "  <thead>\n",
       "    <tr style=\"text-align: right;\">\n",
       "      <th></th>\n",
       "      <th>station_name</th>\n",
       "      <th>station_id</th>\n",
       "    </tr>\n",
       "  </thead>\n",
       "  <tbody>\n",
       "    <tr>\n",
       "      <th>630</th>\n",
       "      <td>OH Charging Stx - Test</td>\n",
       "      <td>OH Charging Stx - Test</td>\n",
       "    </tr>\n",
       "  </tbody>\n",
       "</table>\n",
       "</div>"
      ],
      "text/plain": [
       "               station_name              station_id\n",
       "630  OH Charging Stx - Test  OH Charging Stx - Test"
      ]
     },
     "execution_count": 22,
     "metadata": {},
     "output_type": "execute_result"
    }
   ],
   "source": [
    "## replace 410 in 'station_name'\n",
    "stations['station_name'] = stations['station_name'].replace({'410':'Campbell Ave & Augusta Blvd'})\n",
    "\n",
    "stations[stations['station_id'].isin(list(stations['station_name']))]"
   ]
  },
  {
   "cell_type": "code",
   "execution_count": 23,
   "id": "5026e1b2-6bed-43f9-9804-33e4c9f1ea2a",
   "metadata": {},
   "outputs": [
    {
     "data": {
      "text/html": [
       "<div>\n",
       "<style scoped>\n",
       "    .dataframe tbody tr th:only-of-type {\n",
       "        vertical-align: middle;\n",
       "    }\n",
       "\n",
       "    .dataframe tbody tr th {\n",
       "        vertical-align: top;\n",
       "    }\n",
       "\n",
       "    .dataframe thead th {\n",
       "        text-align: right;\n",
       "    }\n",
       "</style>\n",
       "<table border=\"1\" class=\"dataframe\">\n",
       "  <thead>\n",
       "    <tr style=\"text-align: right;\">\n",
       "      <th></th>\n",
       "      <th>station_name</th>\n",
       "      <th>station_id</th>\n",
       "    </tr>\n",
       "  </thead>\n",
       "  <tbody>\n",
       "    <tr>\n",
       "      <th>630</th>\n",
       "      <td>OH Charging Stx - Test</td>\n",
       "      <td>OH Charging Stx - Test</td>\n",
       "    </tr>\n",
       "  </tbody>\n",
       "</table>\n",
       "</div>"
      ],
      "text/plain": [
       "               station_name              station_id\n",
       "630  OH Charging Stx - Test  OH Charging Stx - Test"
      ]
     },
     "execution_count": 23,
     "metadata": {},
     "output_type": "execute_result"
    }
   ],
   "source": [
    "# Get 'OH Charging Stx - Test' station id.\n",
    "stations[(stations['station_name'] == 'OH Charging Stx - Test')].drop_duplicates()\n",
    "\n",
    "## There is no id assign to this station, the name is also used as the id."
   ]
  },
  {
   "cell_type": "code",
   "execution_count": 24,
   "id": "5d86ffdd-85ee-4fdb-866c-c070635df4d5",
   "metadata": {},
   "outputs": [
    {
     "data": {
      "text/html": [
       "<div>\n",
       "<style scoped>\n",
       "    .dataframe tbody tr th:only-of-type {\n",
       "        vertical-align: middle;\n",
       "    }\n",
       "\n",
       "    .dataframe tbody tr th {\n",
       "        vertical-align: top;\n",
       "    }\n",
       "\n",
       "    .dataframe thead th {\n",
       "        text-align: right;\n",
       "    }\n",
       "</style>\n",
       "<table border=\"1\" class=\"dataframe\">\n",
       "  <thead>\n",
       "    <tr style=\"text-align: right;\">\n",
       "      <th></th>\n",
       "      <th>station_name</th>\n",
       "      <th>id_counts</th>\n",
       "    </tr>\n",
       "  </thead>\n",
       "  <tbody>\n",
       "    <tr>\n",
       "      <th>76</th>\n",
       "      <td>Buckingham Fountain</td>\n",
       "      <td>2</td>\n",
       "    </tr>\n",
       "    <tr>\n",
       "      <th>101</th>\n",
       "      <td>California Ave &amp; Marquette Rd</td>\n",
       "      <td>2</td>\n",
       "    </tr>\n",
       "    <tr>\n",
       "      <th>114</th>\n",
       "      <td>Campbell Ave &amp; Augusta Blvd</td>\n",
       "      <td>2</td>\n",
       "    </tr>\n",
       "    <tr>\n",
       "      <th>134</th>\n",
       "      <td>Central Ave &amp; Roscoe St</td>\n",
       "      <td>2</td>\n",
       "    </tr>\n",
       "    <tr>\n",
       "      <th>443</th>\n",
       "      <td>Kilpatrick Ave &amp; Grand Ave</td>\n",
       "      <td>2</td>\n",
       "    </tr>\n",
       "    <tr>\n",
       "      <th>457</th>\n",
       "      <td>Kostner Ave &amp; Wrightwood Ave</td>\n",
       "      <td>2</td>\n",
       "    </tr>\n",
       "    <tr>\n",
       "      <th>472</th>\n",
       "      <td>Lamon Ave &amp; Armitage Ave</td>\n",
       "      <td>2</td>\n",
       "    </tr>\n",
       "    <tr>\n",
       "      <th>513</th>\n",
       "      <td>Lincoln Ave &amp; Peterson Ave</td>\n",
       "      <td>2</td>\n",
       "    </tr>\n",
       "    <tr>\n",
       "      <th>520</th>\n",
       "      <td>Lockwood Ave &amp; Wrightwood Ave</td>\n",
       "      <td>2</td>\n",
       "    </tr>\n",
       "    <tr>\n",
       "      <th>639</th>\n",
       "      <td>Parkside Ave &amp; Armitage Ave</td>\n",
       "      <td>2</td>\n",
       "    </tr>\n",
       "    <tr>\n",
       "      <th>1599</th>\n",
       "      <td>Wilton Ave &amp; Diversey Pkwy*</td>\n",
       "      <td>2</td>\n",
       "    </tr>\n",
       "  </tbody>\n",
       "</table>\n",
       "</div>"
      ],
      "text/plain": [
       "                       station_name  id_counts\n",
       "76              Buckingham Fountain          2\n",
       "101   California Ave & Marquette Rd          2\n",
       "114     Campbell Ave & Augusta Blvd          2\n",
       "134         Central Ave & Roscoe St          2\n",
       "443      Kilpatrick Ave & Grand Ave          2\n",
       "457    Kostner Ave & Wrightwood Ave          2\n",
       "472        Lamon Ave & Armitage Ave          2\n",
       "513      Lincoln Ave & Peterson Ave          2\n",
       "520   Lockwood Ave & Wrightwood Ave          2\n",
       "639     Parkside Ave & Armitage Ave          2\n",
       "1599    Wilton Ave & Diversey Pkwy*          2"
      ]
     },
     "execution_count": 24,
     "metadata": {},
     "output_type": "execute_result"
    }
   ],
   "source": [
    "sidc = stations.groupby(by=['station_name'], as_index=False).count().rename(columns={'station_id':'id_counts'})\n",
    "\n",
    "sidc[sidc['id_counts'] > 1]"
   ]
  },
  {
   "cell_type": "markdown",
   "id": "b7471a7f-c8fe-41d0-b14f-845ebc951ee2",
   "metadata": {},
   "source": [
    "Notes on the station data:\n",
    "- There are a lot more station, nearly 1,600, that what is stated in the Cyclistic information (692 docking stations).\n",
    "- 1 station need to be assign an id.\n",
    "- 11 stations have 2 different ids assigned to them.\n",
    "- There is no further information about the location of each station, for example, a dimensional table containing the names, ids, and location (lat, lng) of each station.\n",
    "- The start location and end location seem to be taken from a GPS in the bikes.\n",
    "- The stations dimensional table could be generated using the 'station_name' information and Google maps but it would delay everything else.\n",
    "\n",
    "**Because of these reasons, for now, the data about the stations would not be used.**"
   ]
  },
  {
   "cell_type": "markdown",
   "id": "51a800ba-7c35-4adf-a506-b72dd817b322",
   "metadata": {},
   "source": [
    "### Completeness: null values"
   ]
  },
  {
   "cell_type": "code",
   "execution_count": 25,
   "id": "df34a18a-7246-4c36-8298-820e13b44402",
   "metadata": {},
   "outputs": [
    {
     "name": "stdout",
     "output_type": "stream",
     "text": [
      "There are 1,377,218 rows containing at least one null values, representing 24% of the total rows.\n"
     ]
    },
    {
     "data": {
      "text/html": [
       "<div>\n",
       "<style scoped>\n",
       "    .dataframe tbody tr th:only-of-type {\n",
       "        vertical-align: middle;\n",
       "    }\n",
       "\n",
       "    .dataframe tbody tr th {\n",
       "        vertical-align: top;\n",
       "    }\n",
       "\n",
       "    .dataframe thead th {\n",
       "        text-align: right;\n",
       "    }\n",
       "</style>\n",
       "<table border=\"1\" class=\"dataframe\">\n",
       "  <thead>\n",
       "    <tr style=\"text-align: right;\">\n",
       "      <th></th>\n",
       "      <th>null_count</th>\n",
       "      <th>null_percent (%)</th>\n",
       "    </tr>\n",
       "  </thead>\n",
       "  <tbody>\n",
       "    <tr>\n",
       "      <th>ride_id</th>\n",
       "      <td>0</td>\n",
       "      <td>0.0%</td>\n",
       "    </tr>\n",
       "    <tr>\n",
       "      <th>rideable_type</th>\n",
       "      <td>0</td>\n",
       "      <td>0.0%</td>\n",
       "    </tr>\n",
       "    <tr>\n",
       "      <th>started_at</th>\n",
       "      <td>0</td>\n",
       "      <td>0.0%</td>\n",
       "    </tr>\n",
       "    <tr>\n",
       "      <th>ended_at</th>\n",
       "      <td>0</td>\n",
       "      <td>0.0%</td>\n",
       "    </tr>\n",
       "    <tr>\n",
       "      <th>start_station_name</th>\n",
       "      <td>868,160</td>\n",
       "      <td>15.3%</td>\n",
       "    </tr>\n",
       "    <tr>\n",
       "      <th>start_station_id</th>\n",
       "      <td>868,292</td>\n",
       "      <td>15.3%</td>\n",
       "    </tr>\n",
       "    <tr>\n",
       "      <th>end_station_name</th>\n",
       "      <td>922,111</td>\n",
       "      <td>16.3%</td>\n",
       "    </tr>\n",
       "    <tr>\n",
       "      <th>end_station_id</th>\n",
       "      <td>922,252</td>\n",
       "      <td>16.3%</td>\n",
       "    </tr>\n",
       "    <tr>\n",
       "      <th>start_lat</th>\n",
       "      <td>0</td>\n",
       "      <td>0.0%</td>\n",
       "    </tr>\n",
       "    <tr>\n",
       "      <th>start_lng</th>\n",
       "      <td>0</td>\n",
       "      <td>0.0%</td>\n",
       "    </tr>\n",
       "    <tr>\n",
       "      <th>end_lat</th>\n",
       "      <td>7,151</td>\n",
       "      <td>0.1%</td>\n",
       "    </tr>\n",
       "    <tr>\n",
       "      <th>end_lng</th>\n",
       "      <td>7,151</td>\n",
       "      <td>0.1%</td>\n",
       "    </tr>\n",
       "    <tr>\n",
       "      <th>member_casual</th>\n",
       "      <td>0</td>\n",
       "      <td>0.0%</td>\n",
       "    </tr>\n",
       "  </tbody>\n",
       "</table>\n",
       "</div>"
      ],
      "text/plain": [
       "                   null_count null_percent (%)\n",
       "ride_id                     0             0.0%\n",
       "rideable_type               0             0.0%\n",
       "started_at                  0             0.0%\n",
       "ended_at                    0             0.0%\n",
       "start_station_name    868,160            15.3%\n",
       "start_station_id      868,292            15.3%\n",
       "end_station_name      922,111            16.3%\n",
       "end_station_id        922,252            16.3%\n",
       "start_lat                   0             0.0%\n",
       "start_lng                   0             0.0%\n",
       "end_lat                 7,151             0.1%\n",
       "end_lng                 7,151             0.1%\n",
       "member_casual               0             0.0%"
      ]
     },
     "execution_count": 25,
     "metadata": {},
     "output_type": "execute_result"
    }
   ],
   "source": [
    "# Check if there are nulls.\n",
    "rows_with_null = td_clean.loc[td_clean.isna().any(axis=1)].shape[0]\n",
    "print(\"There are {:,} rows containing at least one null values, representing {:.0%} of the total rows.\".format(rows_with_null, rows_with_null / td_clean.shape[0]))\n",
    "\n",
    "pd.DataFrame({\n",
    "    'null_count':td_clean.isnull().sum().map('{:,}'.format),\n",
    "    'null_percent (%)': (td_clean.isnull().sum() / len(td_clean)).map('{:.1%}'.format)\n",
    "})"
   ]
  },
  {
   "cell_type": "markdown",
   "id": "d59671ea-514f-4739-ba1d-26e0a727c14e",
   "metadata": {},
   "source": [
    "All missing values correspond to station data. Because for now the station data will not be used, **this null values will also not be addressed at this moment.** ([See Improvement opportunities](#Improvement-opportunities) section)\n",
    "\n",
    "So, **the df that will be used for analysis is the following**:"
   ]
  },
  {
   "cell_type": "markdown",
   "id": "6d237cef-0a3a-4c33-970d-c3de97a9596b",
   "metadata": {},
   "source": [
    "### Transformation: new metrics\n",
    "1. Trips duration: ride_duration_min = ('ended_at' - 'started_at') and converted to total minutes.\n",
    "2. Day of week the trip started: dow_start = 'started_at' respective day of the week name."
   ]
  },
  {
   "cell_type": "code",
   "execution_count": 26,
   "id": "57fdffcc-1451-41cb-8944-6b46c2375a88",
   "metadata": {},
   "outputs": [
    {
     "name": "stdout",
     "output_type": "stream",
     "text": [
      "(5674446, 15)\n"
     ]
    },
    {
     "data": {
      "text/html": [
       "<div>\n",
       "<style scoped>\n",
       "    .dataframe tbody tr th:only-of-type {\n",
       "        vertical-align: middle;\n",
       "    }\n",
       "\n",
       "    .dataframe tbody tr th {\n",
       "        vertical-align: top;\n",
       "    }\n",
       "\n",
       "    .dataframe thead th {\n",
       "        text-align: right;\n",
       "    }\n",
       "</style>\n",
       "<table border=\"1\" class=\"dataframe\">\n",
       "  <thead>\n",
       "    <tr style=\"text-align: right;\">\n",
       "      <th></th>\n",
       "      <th>ride_id</th>\n",
       "      <th>rideable_type</th>\n",
       "      <th>started_at</th>\n",
       "      <th>ended_at</th>\n",
       "      <th>start_station_name</th>\n",
       "      <th>start_station_id</th>\n",
       "      <th>end_station_name</th>\n",
       "      <th>end_station_id</th>\n",
       "      <th>start_lat</th>\n",
       "      <th>start_lng</th>\n",
       "      <th>end_lat</th>\n",
       "      <th>end_lng</th>\n",
       "      <th>member_casual</th>\n",
       "      <th>ride_duration_min</th>\n",
       "      <th>dow_start</th>\n",
       "    </tr>\n",
       "  </thead>\n",
       "  <tbody>\n",
       "    <tr>\n",
       "      <th>0</th>\n",
       "      <td>CBCD0D7777F0E45F</td>\n",
       "      <td>classic_bike</td>\n",
       "      <td>2023-02-14 11:59:42</td>\n",
       "      <td>2023-02-14 12:13:38</td>\n",
       "      <td>Southport Ave &amp; Clybourn Ave</td>\n",
       "      <td>TA1309000030</td>\n",
       "      <td>Clark St &amp; Schiller St</td>\n",
       "      <td>TA1309000024</td>\n",
       "      <td>41.920771</td>\n",
       "      <td>-87.663712</td>\n",
       "      <td>41.907993</td>\n",
       "      <td>-87.631501</td>\n",
       "      <td>casual</td>\n",
       "      <td>13.933</td>\n",
       "      <td>Tuesday</td>\n",
       "    </tr>\n",
       "    <tr>\n",
       "      <th>1</th>\n",
       "      <td>F3EC5FCE5FF39DE9</td>\n",
       "      <td>electric_bike</td>\n",
       "      <td>2023-02-15 13:53:48</td>\n",
       "      <td>2023-02-15 13:59:08</td>\n",
       "      <td>Clarendon Ave &amp; Gordon Ter</td>\n",
       "      <td>13379</td>\n",
       "      <td>Sheridan Rd &amp; Lawrence Ave</td>\n",
       "      <td>TA1309000041</td>\n",
       "      <td>41.957879</td>\n",
       "      <td>-87.649584</td>\n",
       "      <td>41.969517</td>\n",
       "      <td>-87.654691</td>\n",
       "      <td>casual</td>\n",
       "      <td>5.333</td>\n",
       "      <td>Wednesday</td>\n",
       "    </tr>\n",
       "    <tr>\n",
       "      <th>2</th>\n",
       "      <td>E54C1F27FA9354FF</td>\n",
       "      <td>classic_bike</td>\n",
       "      <td>2023-02-19 11:10:57</td>\n",
       "      <td>2023-02-19 11:35:01</td>\n",
       "      <td>Southport Ave &amp; Clybourn Ave</td>\n",
       "      <td>TA1309000030</td>\n",
       "      <td>Aberdeen St &amp; Monroe St</td>\n",
       "      <td>13156</td>\n",
       "      <td>41.920771</td>\n",
       "      <td>-87.663712</td>\n",
       "      <td>41.880419</td>\n",
       "      <td>-87.655519</td>\n",
       "      <td>member</td>\n",
       "      <td>24.067</td>\n",
       "      <td>Sunday</td>\n",
       "    </tr>\n",
       "  </tbody>\n",
       "</table>\n",
       "</div>"
      ],
      "text/plain": [
       "            ride_id  rideable_type          started_at            ended_at  \\\n",
       "0  CBCD0D7777F0E45F   classic_bike 2023-02-14 11:59:42 2023-02-14 12:13:38   \n",
       "1  F3EC5FCE5FF39DE9  electric_bike 2023-02-15 13:53:48 2023-02-15 13:59:08   \n",
       "2  E54C1F27FA9354FF   classic_bike 2023-02-19 11:10:57 2023-02-19 11:35:01   \n",
       "\n",
       "             start_station_name start_station_id            end_station_name  \\\n",
       "0  Southport Ave & Clybourn Ave     TA1309000030      Clark St & Schiller St   \n",
       "1    Clarendon Ave & Gordon Ter            13379  Sheridan Rd & Lawrence Ave   \n",
       "2  Southport Ave & Clybourn Ave     TA1309000030     Aberdeen St & Monroe St   \n",
       "\n",
       "  end_station_id  start_lat  start_lng    end_lat    end_lng member_casual  \\\n",
       "0   TA1309000024  41.920771 -87.663712  41.907993 -87.631501        casual   \n",
       "1   TA1309000041  41.957879 -87.649584  41.969517 -87.654691        casual   \n",
       "2          13156  41.920771 -87.663712  41.880419 -87.655519        member   \n",
       "\n",
       "   ride_duration_min  dow_start  \n",
       "0             13.933    Tuesday  \n",
       "1              5.333  Wednesday  \n",
       "2             24.067     Sunday  "
      ]
     },
     "execution_count": 26,
     "metadata": {},
     "output_type": "execute_result"
    }
   ],
   "source": [
    "td_clean['ride_duration_min'] = ((td_clean['ended_at'] - td_clean['started_at']).dt.total_seconds()/60).round(3)\n",
    "td_clean['dow_start'] = td_clean['started_at'].dt.day_name()\n",
    "print(td_clean.shape)\n",
    "td_clean.head(3)"
   ]
  },
  {
   "cell_type": "markdown",
   "id": "478cd53f-2976-42a9-8e30-ea6a1cd28070",
   "metadata": {},
   "source": [
    "### Save clean df\n",
    "All data related to stations is removed, see [this section](#Duplicated-values:-stations)."
   ]
  },
  {
   "cell_type": "code",
   "execution_count": 6,
   "id": "87dfab91-f876-4fcf-b3e1-777a3f3fb81b",
   "metadata": {},
   "outputs": [
    {
     "name": "stdout",
     "output_type": "stream",
     "text": [
      "(5674446, 7)\n"
     ]
    },
    {
     "data": {
      "text/html": [
       "<div>\n",
       "<style scoped>\n",
       "    .dataframe tbody tr th:only-of-type {\n",
       "        vertical-align: middle;\n",
       "    }\n",
       "\n",
       "    .dataframe tbody tr th {\n",
       "        vertical-align: top;\n",
       "    }\n",
       "\n",
       "    .dataframe thead th {\n",
       "        text-align: right;\n",
       "    }\n",
       "</style>\n",
       "<table border=\"1\" class=\"dataframe\">\n",
       "  <thead>\n",
       "    <tr style=\"text-align: right;\">\n",
       "      <th></th>\n",
       "      <th>ride_id</th>\n",
       "      <th>rideable_type</th>\n",
       "      <th>started_at</th>\n",
       "      <th>ended_at</th>\n",
       "      <th>member_casual</th>\n",
       "      <th>ride_duration_min</th>\n",
       "      <th>dow_start</th>\n",
       "    </tr>\n",
       "  </thead>\n",
       "  <tbody>\n",
       "    <tr>\n",
       "      <th>0</th>\n",
       "      <td>CBCD0D7777F0E45F</td>\n",
       "      <td>classic_bike</td>\n",
       "      <td>2023-02-14 11:59:42</td>\n",
       "      <td>2023-02-14 12:13:38</td>\n",
       "      <td>casual</td>\n",
       "      <td>13.933</td>\n",
       "      <td>Tuesday</td>\n",
       "    </tr>\n",
       "    <tr>\n",
       "      <th>1</th>\n",
       "      <td>F3EC5FCE5FF39DE9</td>\n",
       "      <td>electric_bike</td>\n",
       "      <td>2023-02-15 13:53:48</td>\n",
       "      <td>2023-02-15 13:59:08</td>\n",
       "      <td>casual</td>\n",
       "      <td>5.333</td>\n",
       "      <td>Wednesday</td>\n",
       "    </tr>\n",
       "    <tr>\n",
       "      <th>2</th>\n",
       "      <td>E54C1F27FA9354FF</td>\n",
       "      <td>classic_bike</td>\n",
       "      <td>2023-02-19 11:10:57</td>\n",
       "      <td>2023-02-19 11:35:01</td>\n",
       "      <td>member</td>\n",
       "      <td>24.067</td>\n",
       "      <td>Sunday</td>\n",
       "    </tr>\n",
       "  </tbody>\n",
       "</table>\n",
       "</div>"
      ],
      "text/plain": [
       "            ride_id  rideable_type          started_at            ended_at  \\\n",
       "0  CBCD0D7777F0E45F   classic_bike 2023-02-14 11:59:42 2023-02-14 12:13:38   \n",
       "1  F3EC5FCE5FF39DE9  electric_bike 2023-02-15 13:53:48 2023-02-15 13:59:08   \n",
       "2  E54C1F27FA9354FF   classic_bike 2023-02-19 11:10:57 2023-02-19 11:35:01   \n",
       "\n",
       "  member_casual  ride_duration_min  dow_start  \n",
       "0        casual             13.933    Tuesday  \n",
       "1        casual              5.333  Wednesday  \n",
       "2        member             24.067     Sunday  "
      ]
     },
     "execution_count": 6,
     "metadata": {},
     "output_type": "execute_result"
    }
   ],
   "source": [
    "td_clean = td_clean[['ride_id', 'rideable_type', 'started_at', 'ended_at', 'member_casual', 'ride_duration_min', 'dow_start']]\n",
    "\n",
    "fpath = \"C:\\\\Users\\\\luisc\\\\OneDrive - Colegio Federado de Ingenieros y de Arquitectos\\\\DataScience&Coding\\\\CaseStudies\\\\2_BikeShareBusiness_GoogleDataAnalystics_Coursera\\\\workedData\"\n",
    "\n",
    "try:\n",
    "    os.remove(fpath + '\\\\' + \"td_clean.h5\")\n",
    "except OSError:\n",
    "    pass\n",
    "\n",
    "# Save in HDF5 format for loading in Jupyter Lab.\n",
    "td_clean.to_hdf(fpath + '\\\\' + \"td_clean.h5\", key='data')\n",
    "\n",
    "# Save in CSV format for using in Tableau or similar software.\n",
    "td_clean.to_csv(fpath + '\\\\' + \"td_clean.csv\", sep=',', index=False, encoding='utf-8')\n",
    "\n",
    "print(td_clean.shape)\n",
    "td_clean.head(3)"
   ]
  },
  {
   "cell_type": "markdown",
   "id": "48615166-d40f-43e9-b95b-1aa50beb5758",
   "metadata": {},
   "source": [
    "## Analysis"
   ]
  },
  {
   "cell_type": "markdown",
   "id": "e0627fe1-ee87-4de9-a0ec-51b8d52e96e0",
   "metadata": {
    "tags": []
   },
   "source": [
    "### Business rules\n",
    "1. Casual riders = customers who purchase single-ride or full-day passes. &rarr; 'casual' value in 'member_casual' variable.\n",
    "2. Cyclistic members = customers who purchase annual memberships. &rarr; 'member' value in 'member_casual' variable.\n",
    "3. ride_duration_min = ('ended_at' - 'started_at') and converted to total minutes."
   ]
  },
  {
   "cell_type": "markdown",
   "id": "875eac86-6179-41ea-a64d-54cce424d457",
   "metadata": {},
   "source": [
    "### Limitations\n",
    "1. Because of data-privacy issues, there is no personally identifiable information of the riders. This has the following limitations:\n",
    "    - Can't connect pass purchases to credit card numbers to determine if casual riders live in the Cyclistic service area: this is relevant for targeting casual riders that could potentially become Cyclistic members. &rarr; **Then**, the amount of data from users outside of Chicago it's assumed to be negligible with respect to Chicago user data.\n",
    "    - Can't connect pass purchases to credit card numbers to determine if one user has purchased multiple single passes: this is important to determine best potential casual users to become members and for estimating number of casual riders. &rarr; **Then**, the amount of transactions from the same user it's assumed to be negligible with individual transaction data.\n",
    "2. The data related to station has to be further cleaned. This has the following limitation:\n",
    "    - Not able to meet deadline because this cleaning process will consume more time. &rarr; **Then**, the data from station will not be used in order to meet deadline. After results presentation, this cleaning process can be started and then the results added in another results presentation."
   ]
  },
  {
   "cell_type": "markdown",
   "id": "2d095305-d8fc-4654-9c47-ae4e5b9e9252",
   "metadata": {},
   "source": [
    "### Load cleaned df"
   ]
  },
  {
   "cell_type": "code",
   "execution_count": 73,
   "id": "ab4901de-3775-4de4-b6e9-6a9dd60016b4",
   "metadata": {},
   "outputs": [
    {
     "name": "stdout",
     "output_type": "stream",
     "text": [
      "(5674446, 7)\n"
     ]
    },
    {
     "data": {
      "text/html": [
       "<div>\n",
       "<style scoped>\n",
       "    .dataframe tbody tr th:only-of-type {\n",
       "        vertical-align: middle;\n",
       "    }\n",
       "\n",
       "    .dataframe tbody tr th {\n",
       "        vertical-align: top;\n",
       "    }\n",
       "\n",
       "    .dataframe thead th {\n",
       "        text-align: right;\n",
       "    }\n",
       "</style>\n",
       "<table border=\"1\" class=\"dataframe\">\n",
       "  <thead>\n",
       "    <tr style=\"text-align: right;\">\n",
       "      <th></th>\n",
       "      <th>ride_id</th>\n",
       "      <th>rideable_type</th>\n",
       "      <th>started_at</th>\n",
       "      <th>ended_at</th>\n",
       "      <th>member_casual</th>\n",
       "      <th>ride_duration_min</th>\n",
       "      <th>dow_start</th>\n",
       "    </tr>\n",
       "  </thead>\n",
       "  <tbody>\n",
       "    <tr>\n",
       "      <th>0</th>\n",
       "      <td>CBCD0D7777F0E45F</td>\n",
       "      <td>classic_bike</td>\n",
       "      <td>2023-02-14 11:59:42</td>\n",
       "      <td>2023-02-14 12:13:38</td>\n",
       "      <td>casual</td>\n",
       "      <td>13.933</td>\n",
       "      <td>Tuesday</td>\n",
       "    </tr>\n",
       "    <tr>\n",
       "      <th>1</th>\n",
       "      <td>F3EC5FCE5FF39DE9</td>\n",
       "      <td>electric_bike</td>\n",
       "      <td>2023-02-15 13:53:48</td>\n",
       "      <td>2023-02-15 13:59:08</td>\n",
       "      <td>casual</td>\n",
       "      <td>5.333</td>\n",
       "      <td>Wednesday</td>\n",
       "    </tr>\n",
       "    <tr>\n",
       "      <th>2</th>\n",
       "      <td>E54C1F27FA9354FF</td>\n",
       "      <td>classic_bike</td>\n",
       "      <td>2023-02-19 11:10:57</td>\n",
       "      <td>2023-02-19 11:35:01</td>\n",
       "      <td>member</td>\n",
       "      <td>24.067</td>\n",
       "      <td>Sunday</td>\n",
       "    </tr>\n",
       "  </tbody>\n",
       "</table>\n",
       "</div>"
      ],
      "text/plain": [
       "            ride_id  rideable_type          started_at            ended_at  \\\n",
       "0  CBCD0D7777F0E45F   classic_bike 2023-02-14 11:59:42 2023-02-14 12:13:38   \n",
       "1  F3EC5FCE5FF39DE9  electric_bike 2023-02-15 13:53:48 2023-02-15 13:59:08   \n",
       "2  E54C1F27FA9354FF   classic_bike 2023-02-19 11:10:57 2023-02-19 11:35:01   \n",
       "\n",
       "  member_casual  ride_duration_min  dow_start  \n",
       "0        casual             13.933    Tuesday  \n",
       "1        casual              5.333  Wednesday  \n",
       "2        member             24.067     Sunday  "
      ]
     },
     "execution_count": 73,
     "metadata": {},
     "output_type": "execute_result"
    }
   ],
   "source": [
    "# Read cleaned data.\n",
    "fpath = \"C:\\\\Users\\\\luisc\\\\OneDrive - Colegio Federado de Ingenieros y de Arquitectos\\\\DataScience&Coding\\\\CaseStudies\\\\2_BikeShareBusiness_GoogleDataAnalystics_Coursera\\\\workedData\"\n",
    "\n",
    "td_clean = pd.read_hdf(fpath + '\\\\' + \"./td_clean.h5\")\n",
    "print(td_clean.shape)\n",
    "td_clean.head(3)"
   ]
  },
  {
   "cell_type": "markdown",
   "id": "73f4bf43-94be-417b-b15e-11d6f0dba59e",
   "metadata": {},
   "source": [
    "### Total rides"
   ]
  },
  {
   "cell_type": "code",
   "execution_count": 95,
   "id": "b42216eb-34e4-4558-8007-4a1be5faf7f1",
   "metadata": {},
   "outputs": [
    {
     "data": {
      "text/html": [
       "<div>\n",
       "<style scoped>\n",
       "    .dataframe tbody tr th:only-of-type {\n",
       "        vertical-align: middle;\n",
       "    }\n",
       "\n",
       "    .dataframe tbody tr th {\n",
       "        vertical-align: top;\n",
       "    }\n",
       "\n",
       "    .dataframe thead th {\n",
       "        text-align: right;\n",
       "    }\n",
       "</style>\n",
       "<table border=\"1\" class=\"dataframe\">\n",
       "  <thead>\n",
       "    <tr style=\"text-align: right;\">\n",
       "      <th></th>\n",
       "      <th>member_casual</th>\n",
       "      <th>ride_counts_mill</th>\n",
       "    </tr>\n",
       "  </thead>\n",
       "  <tbody>\n",
       "    <tr>\n",
       "      <th>0</th>\n",
       "      <td>casual</td>\n",
       "      <td>2.043629</td>\n",
       "    </tr>\n",
       "    <tr>\n",
       "      <th>1</th>\n",
       "      <td>member</td>\n",
       "      <td>3.630817</td>\n",
       "    </tr>\n",
       "  </tbody>\n",
       "</table>\n",
       "</div>"
      ],
      "text/plain": [
       "  member_casual  ride_counts_mill\n",
       "0        casual          2.043629\n",
       "1        member          3.630817"
      ]
     },
     "execution_count": 95,
     "metadata": {},
     "output_type": "execute_result"
    }
   ],
   "source": [
    "# see total rides by casual and members\n",
    "tr = td_clean[['ride_id','member_casual']].rename(columns={'ride_id':'ride_counts_mill'}).groupby(by=['member_casual'], as_index=False, observed=False).count()\n",
    "tr['ride_counts_mill'] = tr['ride_counts_mill'] / 1_000_000\n",
    "tr"
   ]
  },
  {
   "cell_type": "code",
   "execution_count": 97,
   "id": "8de0835e-03c6-44f5-910f-9e85d2cbb08e",
   "metadata": {},
   "outputs": [
    {
     "data": {
      "text/plain": [
       "<seaborn.axisgrid.FacetGrid at 0x26b16e23a10>"
      ]
     },
     "execution_count": 97,
     "metadata": {},
     "output_type": "execute_result"
    },
    {
     "data": {
      "image/png": "[encoded data removed]",
      "text/plain": [
       "<Figure size 500x500 with 1 Axes>"
      ]
     },
     "metadata": {},
     "output_type": "display_data"
    }
   ],
   "source": [
    "g = sns.catplot(\n",
    "    data = tr, kind = 'bar',\n",
    "    x = 'member_casual', y = 'ride_counts_mill'\n",
    ")\n",
    "\n",
    "g.fig.suptitle(\"Total rides\")\n",
    "g.despine(left=True)\n",
    "g.set_axis_labels(\"\", \"Number of rides in millions\")"
   ]
  },
  {
   "cell_type": "markdown",
   "id": "f884c2cc-5c6c-4660-be7e-336bb66e7058",
   "metadata": {},
   "source": [
    "Notes:\n",
    "1. Members use Cyclistic 75% more than casual riders.\n",
    "2. Based on note 1, the conclusion that was derived by the financial analysis seems to be backed up by this data too."
   ]
  },
  {
   "cell_type": "markdown",
   "id": "3ce50f46-b249-404e-b125-d48a6e730aa0",
   "metadata": {},
   "source": [
    "### Type of bike"
   ]
  },
  {
   "cell_type": "code",
   "execution_count": 86,
   "id": "395859d9-df79-47c5-8150-93f079ee22fb",
   "metadata": {},
   "outputs": [
    {
     "data": {
      "text/html": [
       "<div>\n",
       "<style scoped>\n",
       "    .dataframe tbody tr th:only-of-type {\n",
       "        vertical-align: middle;\n",
       "    }\n",
       "\n",
       "    .dataframe tbody tr th {\n",
       "        vertical-align: top;\n",
       "    }\n",
       "\n",
       "    .dataframe thead th {\n",
       "        text-align: right;\n",
       "    }\n",
       "</style>\n",
       "<table border=\"1\" class=\"dataframe\">\n",
       "  <thead>\n",
       "    <tr style=\"text-align: right;\">\n",
       "      <th></th>\n",
       "      <th>member_casual</th>\n",
       "      <th>rideable_type</th>\n",
       "      <th>ride_counts_mill</th>\n",
       "    </tr>\n",
       "  </thead>\n",
       "  <tbody>\n",
       "    <tr>\n",
       "      <th>0</th>\n",
       "      <td>casual</td>\n",
       "      <td>classic_bike</td>\n",
       "      <td>0.873421</td>\n",
       "    </tr>\n",
       "    <tr>\n",
       "      <th>1</th>\n",
       "      <td>casual</td>\n",
       "      <td>docked_bike</td>\n",
       "      <td>0.076549</td>\n",
       "    </tr>\n",
       "    <tr>\n",
       "      <th>2</th>\n",
       "      <td>casual</td>\n",
       "      <td>electric_bike</td>\n",
       "      <td>1.093659</td>\n",
       "    </tr>\n",
       "    <tr>\n",
       "      <th>3</th>\n",
       "      <td>member</td>\n",
       "      <td>classic_bike</td>\n",
       "      <td>1.808819</td>\n",
       "    </tr>\n",
       "    <tr>\n",
       "      <th>4</th>\n",
       "      <td>member</td>\n",
       "      <td>docked_bike</td>\n",
       "      <td>0.000000</td>\n",
       "    </tr>\n",
       "    <tr>\n",
       "      <th>5</th>\n",
       "      <td>member</td>\n",
       "      <td>electric_bike</td>\n",
       "      <td>1.821998</td>\n",
       "    </tr>\n",
       "  </tbody>\n",
       "</table>\n",
       "</div>"
      ],
      "text/plain": [
       "  member_casual  rideable_type  ride_counts_mill\n",
       "0        casual   classic_bike          0.873421\n",
       "1        casual    docked_bike          0.076549\n",
       "2        casual  electric_bike          1.093659\n",
       "3        member   classic_bike          1.808819\n",
       "4        member    docked_bike          0.000000\n",
       "5        member  electric_bike          1.821998"
      ]
     },
     "execution_count": 86,
     "metadata": {},
     "output_type": "execute_result"
    }
   ],
   "source": [
    "td_clean['rideable_type'] = td_clean['rideable_type'].astype('category')\n",
    "tob = td_clean[['ride_id','rideable_type','member_casual']].rename(columns={'ride_id':'ride_counts_mill'}).groupby(by=['member_casual','rideable_type'], as_index=False, observed=False).count()\n",
    "tob['ride_counts_mill'] = tob['ride_counts_mill'] / 1_000_000\n",
    "tob"
   ]
  },
  {
   "cell_type": "code",
   "execution_count": 98,
   "id": "46a00b3d-44c2-4143-abbd-3c8da6f718ce",
   "metadata": {},
   "outputs": [
    {
     "name": "stderr",
     "output_type": "stream",
     "text": [
      "C:\\Users\\luisc\\miniconda3\\envs\\leenv\\Lib\\site-packages\\seaborn\\categorical.py:641: FutureWarning: The default of observed=False is deprecated and will be changed to True in a future version of pandas. Pass observed=False to retain current behavior or observed=True to adopt the future default and silence this warning.\n",
      "  grouped_vals = vals.groupby(grouper)\n",
      "C:\\Users\\luisc\\miniconda3\\envs\\leenv\\Lib\\site-packages\\seaborn\\categorical.py:641: FutureWarning: The default of observed=False is deprecated and will be changed to True in a future version of pandas. Pass observed=False to retain current behavior or observed=True to adopt the future default and silence this warning.\n",
      "  grouped_vals = vals.groupby(grouper)\n",
      "C:\\Users\\luisc\\miniconda3\\envs\\leenv\\Lib\\site-packages\\seaborn\\categorical.py:641: FutureWarning: The default of observed=False is deprecated and will be changed to True in a future version of pandas. Pass observed=False to retain current behavior or observed=True to adopt the future default and silence this warning.\n",
      "  grouped_vals = vals.groupby(grouper)\n"
     ]
    },
    {
     "data": {
      "image/png": "[encoded data removed]",
      "text/plain": [
       "<Figure size 631.097x500 with 1 Axes>"
      ]
     },
     "metadata": {},
     "output_type": "display_data"
    }
   ],
   "source": [
    "g = sns.catplot(\n",
    "    data = tob, kind = 'bar',\n",
    "    x = 'rideable_type', y = 'ride_counts_mill', hue = 'member_casual'\n",
    ")\n",
    "\n",
    "g.fig.suptitle(\"Type of bike\")\n",
    "g.despine(left=True)\n",
    "g.set_axis_labels(\"\", \"Number of rides in millions\")\n",
    "g.legend.set_title(\"\")"
   ]
  },
  {
   "cell_type": "markdown",
   "id": "6c846a34-14ee-4e95-ae2b-5aaafbf0cac1",
   "metadata": {},
   "source": [
    "Notes:\n",
    "1. There is no important difference between the preference of a type of bike between members and casual riders.\n",
    "2. Both members and casual riders split approximately 50%-50% there preference for classic and electric bikes."
   ]
  },
  {
   "cell_type": "markdown",
   "id": "177de1f3-3e40-4e05-b611-90c56dcc8605",
   "metadata": {},
   "source": [
    "### Day of week"
   ]
  },
  {
   "cell_type": "code",
   "execution_count": 76,
   "id": "b04b440d-04bf-4c49-971b-9047fd40ef47",
   "metadata": {},
   "outputs": [
    {
     "data": {
      "text/html": [
       "<div>\n",
       "<style scoped>\n",
       "    .dataframe tbody tr th:only-of-type {\n",
       "        vertical-align: middle;\n",
       "    }\n",
       "\n",
       "    .dataframe tbody tr th {\n",
       "        vertical-align: top;\n",
       "    }\n",
       "\n",
       "    .dataframe thead th {\n",
       "        text-align: right;\n",
       "    }\n",
       "</style>\n",
       "<table border=\"1\" class=\"dataframe\">\n",
       "  <thead>\n",
       "    <tr style=\"text-align: right;\">\n",
       "      <th></th>\n",
       "      <th>member_casual</th>\n",
       "      <th>dow_start</th>\n",
       "      <th>ride_counts_thou</th>\n",
       "    </tr>\n",
       "  </thead>\n",
       "  <tbody>\n",
       "    <tr>\n",
       "      <th>0</th>\n",
       "      <td>casual</td>\n",
       "      <td>Fri</td>\n",
       "      <td>310.020</td>\n",
       "    </tr>\n",
       "    <tr>\n",
       "      <th>1</th>\n",
       "      <td>casual</td>\n",
       "      <td>Mon</td>\n",
       "      <td>233.182</td>\n",
       "    </tr>\n",
       "    <tr>\n",
       "      <th>2</th>\n",
       "      <td>casual</td>\n",
       "      <td>Sat</td>\n",
       "      <td>408.212</td>\n",
       "    </tr>\n",
       "    <tr>\n",
       "      <th>3</th>\n",
       "      <td>casual</td>\n",
       "      <td>Sun</td>\n",
       "      <td>331.711</td>\n",
       "    </tr>\n",
       "    <tr>\n",
       "      <th>4</th>\n",
       "      <td>casual</td>\n",
       "      <td>Thu</td>\n",
       "      <td>269.990</td>\n",
       "    </tr>\n",
       "    <tr>\n",
       "      <th>5</th>\n",
       "      <td>casual</td>\n",
       "      <td>Tue</td>\n",
       "      <td>242.738</td>\n",
       "    </tr>\n",
       "    <tr>\n",
       "      <th>6</th>\n",
       "      <td>casual</td>\n",
       "      <td>Wed</td>\n",
       "      <td>247.776</td>\n",
       "    </tr>\n",
       "    <tr>\n",
       "      <th>7</th>\n",
       "      <td>member</td>\n",
       "      <td>Fri</td>\n",
       "      <td>525.249</td>\n",
       "    </tr>\n",
       "    <tr>\n",
       "      <th>8</th>\n",
       "      <td>member</td>\n",
       "      <td>Mon</td>\n",
       "      <td>491.709</td>\n",
       "    </tr>\n",
       "    <tr>\n",
       "      <th>9</th>\n",
       "      <td>member</td>\n",
       "      <td>Sat</td>\n",
       "      <td>467.784</td>\n",
       "    </tr>\n",
       "    <tr>\n",
       "      <th>10</th>\n",
       "      <td>member</td>\n",
       "      <td>Sun</td>\n",
       "      <td>401.905</td>\n",
       "    </tr>\n",
       "    <tr>\n",
       "      <th>11</th>\n",
       "      <td>member</td>\n",
       "      <td>Thu</td>\n",
       "      <td>589.630</td>\n",
       "    </tr>\n",
       "    <tr>\n",
       "      <th>12</th>\n",
       "      <td>member</td>\n",
       "      <td>Tue</td>\n",
       "      <td>566.303</td>\n",
       "    </tr>\n",
       "    <tr>\n",
       "      <th>13</th>\n",
       "      <td>member</td>\n",
       "      <td>Wed</td>\n",
       "      <td>588.237</td>\n",
       "    </tr>\n",
       "  </tbody>\n",
       "</table>\n",
       "</div>"
      ],
      "text/plain": [
       "   member_casual dow_start  ride_counts_thou\n",
       "0         casual       Fri           310.020\n",
       "1         casual       Mon           233.182\n",
       "2         casual       Sat           408.212\n",
       "3         casual       Sun           331.711\n",
       "4         casual       Thu           269.990\n",
       "5         casual       Tue           242.738\n",
       "6         casual       Wed           247.776\n",
       "7         member       Fri           525.249\n",
       "8         member       Mon           491.709\n",
       "9         member       Sat           467.784\n",
       "10        member       Sun           401.905\n",
       "11        member       Thu           589.630\n",
       "12        member       Tue           566.303\n",
       "13        member       Wed           588.237"
      ]
     },
     "execution_count": 76,
     "metadata": {},
     "output_type": "execute_result"
    }
   ],
   "source": [
    "td_clean['dow_start'] = td_clean['dow_start'].astype('category')\n",
    "dow = td_clean[['ride_id','dow_start','member_casual']].rename(columns={'ride_id':'ride_counts_thou'}).groupby(by=['member_casual','dow_start'], as_index=False, observed=False).count()\n",
    "dow['ride_counts_thou'] = dow['ride_counts_thou'] / 1_000 \n",
    "dow['dow_start'] = dow['dow_start'].str[:3]\n",
    "dow"
   ]
  },
  {
   "cell_type": "code",
   "execution_count": 82,
   "id": "3490876d-7c48-4c48-8d74-4803ce725201",
   "metadata": {},
   "outputs": [
    {
     "data": {
      "image/png": "[encoded data removed]",
      "text/plain": [
       "<Figure size 631.097x500 with 1 Axes>"
      ]
     },
     "metadata": {},
     "output_type": "display_data"
    }
   ],
   "source": [
    "g = sns.catplot(\n",
    "    data = dow, kind = 'bar',\n",
    "    x = 'dow_start', y = 'ride_counts_thou', hue = 'member_casual', order=['Mon','Tue','Wed','Thu','Fri','Sat','Sun']\n",
    ")\n",
    "\n",
    "g.fig.suptitle(\"Day of the week\")\n",
    "g.despine(left=True)\n",
    "g.set_axis_labels(\"\", \"Number of rides in thousands\")\n",
    "g.legend.set_title(\"\")"
   ]
  },
  {
   "cell_type": "markdown",
   "id": "7a13b4de-4f00-4f55-b486-91918e1a1875",
   "metadata": {},
   "source": [
    "Notes:\n",
    "1. Trends of Cyclistic use for members and casual riders are different.\n",
    "2. Members use more Cyclistic on weekdays, with a peak on Wednesday and Thursday, while casual riders use Cyclistic more on weekends, with a peak on Saturday.\n",
    "3. Based on note 2, it seems that members may be using Cyclistic bikes for commuting to work and leisure, while casual riders use it more for leisure."
   ]
  },
  {
   "cell_type": "markdown",
   "id": "25458bf1-06f3-4df1-8a68-46b990104e89",
   "metadata": {
    "jp-MarkdownHeadingCollapsed": true
   },
   "source": [
    "### Rides distribution\n",
    "Further exploration in the future."
   ]
  },
  {
   "cell_type": "code",
   "execution_count": 3,
   "id": "1887711e-c0bf-4d1b-abdd-863bd5aaa527",
   "metadata": {},
   "outputs": [
    {
     "data": {
      "text/plain": [
       "count    5674446.000000\n",
       "mean          18.294872\n",
       "std          179.892726\n",
       "min            0.000000\n",
       "25%            5.433000\n",
       "50%            9.550000\n",
       "75%           16.967000\n",
       "max        98489.067000\n",
       "Name: ride_duration_min, dtype: object"
      ]
     },
     "execution_count": 3,
     "metadata": {},
     "output_type": "execute_result"
    }
   ],
   "source": [
    "td_clean['ride_duration_min'].describe().apply(lambda x: format(x, 'f'))"
   ]
  },
  {
   "cell_type": "code",
   "execution_count": 4,
   "id": "90cfdf38-f698-49bb-bd63-47e6d4fbf815",
   "metadata": {},
   "outputs": [
    {
     "data": {
      "text/plain": [
       "{'whiskers': [<matplotlib.lines.Line2D at 0x26b0d918380>,\n",
       "  <matplotlib.lines.Line2D at 0x26b0d9186b0>],\n",
       " 'caps': [<matplotlib.lines.Line2D at 0x26b0d918950>,\n",
       "  <matplotlib.lines.Line2D at 0x26b0d918c50>],\n",
       " 'boxes': [<matplotlib.lines.Line2D at 0x26b0d9180e0>],\n",
       " 'medians': [<matplotlib.lines.Line2D at 0x26b0d918f50>],\n",
       " 'fliers': [<matplotlib.lines.Line2D at 0x26b0d919220>],\n",
       " 'means': []}"
      ]
     },
     "execution_count": 4,
     "metadata": {},
     "output_type": "execute_result"
    },
    {
     "data": {
      "image/png": "[encoded data removed]",
      "text/plain": [
       "<Figure size 640x480 with 1 Axes>"
      ]
     },
     "metadata": {},
     "output_type": "display_data"
    }
   ],
   "source": [
    "plt.boxplot(td_clean['ride_duration_min'])"
   ]
  },
  {
   "cell_type": "markdown",
   "id": "ee1d47ab-7396-4959-b0c4-e2e95cbc339b",
   "metadata": {},
   "source": [
    "There are several duration values that are very large, but **75% of the durations is under 17 minutes**.\n",
    "\n",
    "To get some context, because the duration values are in minutes, a value of:\n",
    "-   1,440 min = 1 day\n",
    "-   4,320 min = 3 days\n",
    "-  10,080 min = 7 days\n",
    "-  20,160 min = 14 days\n",
    "-  34,200 min = 1 month\n",
    "- 102,600 min = 3 months\n",
    "\n",
    "This will also be a good time to **ask for clarification** about the validity of such large duration values to someone with domain knowledge. The objective of this would be to implement business rules on how to deal with the outliers. For example, ask them if if it's possible that someone rent a bike for 3 month (max duration value of ~100,000 min). Then, ask them if, in the light of the business task, this unusually large duration values should be removed, or maybe we should focus on them because they are valid values and therefore represent very regular users of Cyclistic."
   ]
  },
  {
   "cell_type": "markdown",
   "id": "f6746718-e22b-481b-998b-414f81d9e6fd",
   "metadata": {},
   "source": [
    "It's prudent to check if they come from the swapping of the 292 values from 'started_at' and 'ended_at' we did earlier."
   ]
  },
  {
   "cell_type": "code",
   "execution_count": 50,
   "id": "93e95003-d590-481f-bedb-97a296a8abb4",
   "metadata": {},
   "outputs": [
    {
     "data": {
      "text/plain": [
       "5172185    16656.517\n",
       "5209839    16635.217\n",
       "5189258    16390.133\n",
       "5185035    16104.550\n",
       "5208977    10626.400\n",
       "             ...    \n",
       "4565948        0.017\n",
       "4540597        0.017\n",
       "4536157        0.017\n",
       "4477787        0.017\n",
       "4241815        0.017\n",
       "Name: ride_duration_min, Length: 292, dtype: float64"
      ]
     },
     "execution_count": 50,
     "metadata": {},
     "output_type": "execute_result"
    }
   ],
   "source": [
    "td_clean['ride_duration_min'].loc[swap_idx].sort_values(ascending=False)"
   ]
  },
  {
   "cell_type": "code",
   "execution_count": 54,
   "id": "200a454c-b821-4ef6-b3a9-b0560e26c05b",
   "metadata": {},
   "outputs": [
    {
     "data": {
      "text/plain": [
       "{'whiskers': [<matplotlib.lines.Line2D at 0x24b9d0bfd40>,\n",
       "  <matplotlib.lines.Line2D at 0x24b9d0c4050>],\n",
       " 'caps': [<matplotlib.lines.Line2D at 0x24b9d0c43b0>,\n",
       "  <matplotlib.lines.Line2D at 0x24b9d0c4bc0>],\n",
       " 'boxes': [<matplotlib.lines.Line2D at 0x24b9d0bfd10>],\n",
       " 'medians': [<matplotlib.lines.Line2D at 0x24b9d0c4b00>],\n",
       " 'fliers': [<matplotlib.lines.Line2D at 0x24b9d0c53a0>],\n",
       " 'means': []}"
      ]
     },
     "execution_count": 54,
     "metadata": {},
     "output_type": "execute_result"
    },
    {
     "data": {
      "image/png": "[encoded data removed]",
      "text/plain": [
       "<Figure size 640x480 with 1 Axes>"
      ]
     },
     "metadata": {},
     "output_type": "display_data"
    }
   ],
   "source": [
    "plt.boxplot(td_clean['ride_duration_min'].loc[swap_idx])"
   ]
  },
  {
   "cell_type": "markdown",
   "id": "99456fd9-31f1-4b81-987e-a0efa8541056",
   "metadata": {},
   "source": [
    "From the descriptive statistics and the box and whisker plot, there can be spotted several outliers for the swapped values.\n",
    "\n",
    "Let's see if there are also outliers for the not-swapped values:"
   ]
  },
  {
   "cell_type": "code",
   "execution_count": 62,
   "id": "d9310aa5-bf9b-4c5a-8abe-1e39d29c85c5",
   "metadata": {},
   "outputs": [
    {
     "data": {
      "text/plain": [
       "{'whiskers': [<matplotlib.lines.Line2D at 0x24b9d0ec320>,\n",
       "  <matplotlib.lines.Line2D at 0x24b9d0ec4a0>],\n",
       " 'caps': [<matplotlib.lines.Line2D at 0x24b9d0ec740>,\n",
       "  <matplotlib.lines.Line2D at 0x24b9d0ecfe0>],\n",
       " 'boxes': [<matplotlib.lines.Line2D at 0x24b9d0e7e60>],\n",
       " 'medians': [<matplotlib.lines.Line2D at 0x24b9d0ec470>],\n",
       " 'fliers': [<matplotlib.lines.Line2D at 0x24b9d0ec710>],\n",
       " 'means': []}"
      ]
     },
     "execution_count": 62,
     "metadata": {},
     "output_type": "execute_result"
    },
    {
     "data": {
      "image/png": "[encoded data removed]",
      "text/plain": [
       "<Figure size 640x480 with 1 Axes>"
      ]
     },
     "metadata": {},
     "output_type": "display_data"
    }
   ],
   "source": [
    "plt.boxplot(td_clean['ride_duration_min'].drop(list(swap_idx)))"
   ]
  },
  {
   "cell_type": "markdown",
   "id": "b6c36e95-90de-4483-8bb8-71349ad94e79",
   "metadata": {},
   "source": [
    "There are also several outliers for the not-swapped values, so we can conclude it was not necessarily the swapping that caused the very large durations.\n",
    "\n",
    "To get some context, because the duration values are in minutes, a value of:\n",
    "- 1,440  min = 1 day\n",
    "- 4,320  min = 3 days\n",
    "- 10,080 min = 7 days\n",
    "- 20,160 min = 14 days\n",
    "- 34,200 min = 1 month "
   ]
  },
  {
   "cell_type": "code",
   "execution_count": 40,
   "id": "b0e9f3bc-3ca2-4f11-92d6-431c480e4635",
   "metadata": {},
   "outputs": [
    {
     "data": {
      "text/plain": [
       "count    2043629.000000\n",
       "mean          28.289480\n",
       "std          295.115596\n",
       "min            0.000000\n",
       "25%            6.650000\n",
       "50%           11.883000\n",
       "75%           22.217000\n",
       "max        98489.067000\n",
       "Name: ride_duration_min, dtype: object"
      ]
     },
     "execution_count": 40,
     "metadata": {},
     "output_type": "execute_result"
    }
   ],
   "source": [
    "casual_rd = td_clean[['member_casual','ride_duration_min']][td_clean['member_casual'] == 'casual']\n",
    "\n",
    "casual_rd['ride_duration_min'].describe().apply(lambda x: format(x, 'f'))"
   ]
  },
  {
   "cell_type": "markdown",
   "id": "ba9107c4-d9a8-42bc-874e-fecba9b4f14c",
   "metadata": {},
   "source": [
    "The max value is very large, approximately "
   ]
  },
  {
   "cell_type": "code",
   "execution_count": 42,
   "id": "c26ad38b-32e3-4f47-b3c4-3eaca40348c2",
   "metadata": {},
   "outputs": [
    {
     "data": {
      "text/plain": [
       "{'whiskers': [<matplotlib.lines.Line2D at 0x24b98d0ca10>,\n",
       "  <matplotlib.lines.Line2D at 0x24b98d0cce0>],\n",
       " 'caps': [<matplotlib.lines.Line2D at 0x24b98d0cfe0>,\n",
       "  <matplotlib.lines.Line2D at 0x24b98d0d2e0>],\n",
       " 'boxes': [<matplotlib.lines.Line2D at 0x24b98726870>],\n",
       " 'medians': [<matplotlib.lines.Line2D at 0x24b98d0d580>],\n",
       " 'fliers': [<matplotlib.lines.Line2D at 0x24b98d0d850>],\n",
       " 'means': []}"
      ]
     },
     "execution_count": 42,
     "metadata": {},
     "output_type": "execute_result"
    },
    {
     "data": {
      "image/png": "[encoded data removed]",
      "text/plain": [
       "<Figure size 640x480 with 1 Axes>"
      ]
     },
     "metadata": {},
     "output_type": "display_data"
    }
   ],
   "source": [
    "plt.boxplot(casual_rd['ride_duration_min'])"
   ]
  },
  {
   "cell_type": "markdown",
   "id": "aff8cd0e-1a8e-4548-8154-d65eaf0d5d00",
   "metadata": {},
   "source": [
    "## Conclusions and recommendations"
   ]
  },
  {
   "cell_type": "markdown",
   "id": "adfddf3f-a821-41f5-9612-170580ce0a81",
   "metadata": {},
   "source": [
    "**Conclusions**\n",
    "1. Members use Cyclistic 75% more than casual riders, which supports the conclusion obtained by the financial analysis that *members are more profitable for the business*.\n",
    "2. There is no important difference between the preference of a type of bike between members and casual riders.\n",
    "3. Both members and casual riders split approximately 50%-50% there preference for classic and electric bikes.\n",
    "4. Trends of Cyclistic use for members and casual riders are different.\n",
    "5. Members use more Cyclistic on weekdays, with a peak on Wednesday and Thursday, while casual riders use Cyclistic more on weekends, with a peak on Saturday.\n",
    "6. Based on the previous Conclusion, it seems that members may be using Cyclistic bikes for commuting to work and leisure, while casual riders use it more for leisure.\n",
    "\n",
    "**Recommendations**\n",
    "1. The bike fleet should be evenly distributed between classic and electric bikes, to offer both members and casual riders what they are looking for.\n",
    "2. Offer promotions aimed at casual riders that rent a bike on the weekend for a free day or two on the weekdays. This will give them the opportunity to try Cyclistic for commuting to work and become members when they see the savings it represents.\n",
    "3. Offer discounts for weekend rides to casual riders that buy a membership."
   ]
  },
  {
   "cell_type": "markdown",
   "id": "659fdfc3-3e2b-4c90-a095-f2159e57b871",
   "metadata": {},
   "source": [
    "### Next steps"
   ]
  },
  {
   "cell_type": "markdown",
   "id": "4c4ca347-e5cf-4b29-933b-5d8ae6b0106e",
   "metadata": {},
   "source": [
    "For each recommendation:\n",
    "1. Keep the distribution of the bike fleet at it is, approximately 50%-50% between classic and electric bikes.\n",
    "2. Design the promotions and implement them via the Cyclistic app and advertise it on digital media.\n",
    "3. Define the discount percentage and implement them via the Cyclistic app and advertise it on digital media."
   ]
  },
  {
   "cell_type": "markdown",
   "id": "e3ef7fa9-bb25-42d7-885f-844afdf6f341",
   "metadata": {},
   "source": [
    "## Improvement opportunities"
   ]
  },
  {
   "cell_type": "markdown",
   "id": "4acca32b-be86-4164-93c6-3ddb0ab3076e",
   "metadata": {},
   "source": [
    "### Dirty station data"
   ]
  },
  {
   "cell_type": "markdown",
   "id": "d24875f1-1ffd-400a-89ec-e1881e8f2c87",
   "metadata": {},
   "source": [
    "The null values related to station data could lead to the following limitations:\n",
    "\n",
    "1. Estimating the most popular stations, since we need both start and end station name or id.\n",
    "2. Estimating the distance of each ride, since we need both start and end station latitude and longitude.\n",
    "\n",
    "Possible fixes: !!! Generate a dataframe of the stations and its geographical location. The stations dimensional table could be generated using the 'station_name' information and Google maps. Then evaluate the nearest neighbor for gap-filling missing data !!!\n",
    "\n",
    "1. Use the start_lat and start_lng of the stations that doesn't have name or id to assign them values.\n",
    "2. Check if the end_lat and end_lng have name or id to assign them values."
   ]
  },
  {
   "cell_type": "markdown",
   "id": "347f9075-9d62-4844-933a-cd1daf57ad39",
   "metadata": {},
   "source": [
    "# Appendix"
   ]
  },
  {
   "cell_type": "markdown",
   "id": "5bff9440-111b-41a4-b236-cfbd18fe4d02",
   "metadata": {},
   "source": [
    "## for Data Description"
   ]
  },
  {
   "cell_type": "markdown",
   "id": "188ecddf-b133-4f15-9b6b-357707a8b4ba",
   "metadata": {},
   "source": [
    "### files sizes\n",
    "Return to [Data description](#Prepare:-Data-description)"
   ]
  },
  {
   "cell_type": "markdown",
   "id": "66eb5371-b95e-4f5a-95ba-38e7e0f9aec8",
   "metadata": {},
   "source": [
    "**IMPORTANT!!! DO NOT RUN**\n",
    "\n",
    "This section was already run and it's designed to be run only once. So it's here for documentation purposes only."
   ]
  },
  {
   "cell_type": "code",
   "execution_count": 27,
   "id": "7d597a26-e09d-4bde-97dd-e6b6b8ecfb12",
   "metadata": {},
   "outputs": [
    {
     "name": "stdout",
     "output_type": "stream",
     "text": [
      "/c/Users/luisc/OneDrive - Colegio Federado de Ingenieros y de Arquitectos/DataScience&Coding/CaseStudies/2_BikeShareBusiness_GoogleDataAnalystics_Coursera/originalData\n"
     ]
    }
   ],
   "source": [
    "%%bash\n",
    "# See the current working directory\n",
    "pwd"
   ]
  },
  {
   "cell_type": "code",
   "execution_count": 16,
   "id": "4ca338a6-52cb-41b0-ac0a-4a313a406b02",
   "metadata": {
    "collapsed": true,
    "jupyter": {
     "outputs_hidden": true
    },
    "scrolled": true
   },
   "outputs": [
    {
     "name": "stdout",
     "output_type": "stream",
     "text": [
      "Archive:  202302-divvy-tripdata.zip\n",
      "  inflating: 202302-divvy-tripdata.csv  \n",
      "  inflating: __MACOSX/._202302-divvy-tripdata.csv  \n",
      "Archive:  202303-divvy-tripdata.zip\n",
      "  inflating: 202303-divvy-tripdata.csv  \n",
      "  inflating: __MACOSX/._202303-divvy-tripdata.csv  \n",
      "Archive:  202304-divvy-tripdata.zip\n",
      "  inflating: 202304-divvy-tripdata.csv  \n",
      "  inflating: __MACOSX/._202304-divvy-tripdata.csv  \n",
      "Archive:  202305-divvy-tripdata.zip\n",
      "  inflating: 202305-divvy-tripdata.csv  \n",
      "  inflating: __MACOSX/._202305-divvy-tripdata.csv  \n",
      "Archive:  202306-divvy-tripdata.zip\n",
      "  inflating: 202306-divvy-tripdata.csv  \n",
      "  inflating: __MACOSX/._202306-divvy-tripdata.csv  \n",
      "Archive:  202307-divvy-tripdata.zip\n",
      "  inflating: 202307-divvy-tripdata.csv  \n",
      "  inflating: __MACOSX/._202307-divvy-tripdata.csv  \n",
      "Archive:  202308-divvy-tripdata.zip\n",
      "  inflating: 202308-divvy-tripdata.csv  \n",
      "  inflating: __MACOSX/._202308-divvy-tripdata.csv  \n",
      "Archive:  202309-divvy-tripdata.zip\n",
      "  inflating: 202309-divvy-tripdata.csv  \n",
      "  inflating: __MACOSX/._202309-divvy-tripdata.csv  \n",
      "Archive:  202310-divvy-tripdata.zip\n",
      "  inflating: 202310-divvy-tripdata.csv  \n",
      "  inflating: __MACOSX/._202310-divvy-tripdata.csv  \n",
      "Archive:  202311-divvy-tripdata.zip\n",
      "  inflating: 202311-divvy-tripdata.csv  \n",
      "  inflating: __MACOSX/._202311-divvy-tripdata.csv  \n",
      "Archive:  202312-divvy-tripdata.zip\n",
      "  inflating: 202312-divvy-tripdata.csv  \n",
      "  inflating: __MACOSX/._202312-divvy-tripdata.csv  \n",
      "Archive:  202401-divvy-tripdata.zip\n",
      "  inflating: 202401-divvy-tripdata.csv  \n",
      "  inflating: __MACOSX/._202401-divvy-tripdata.csv  \n"
     ]
    }
   ],
   "source": [
    "%%bash\n",
    "# Unzip all monthly files \n",
    "for i in *.zip\n",
    "do\n",
    "    unzip $i\n",
    "done"
   ]
  },
  {
   "cell_type": "code",
   "execution_count": 23,
   "id": "8ed41e08-39b2-4bd8-9601-054e4d6ad1f8",
   "metadata": {
    "collapsed": true,
    "jupyter": {
     "outputs_hidden": true
    },
    "scrolled": true
   },
   "outputs": [
    {
     "name": "stdout",
     "output_type": "stream",
     "text": [
      "202302-divvy-tripdata.zip\n",
      "202303-divvy-tripdata.zip\n",
      "202304-divvy-tripdata.zip\n",
      "202305-divvy-tripdata.zip\n",
      "202306-divvy-tripdata.zip\n",
      "202307-divvy-tripdata.zip\n",
      "202308-divvy-tripdata.zip\n",
      "202309-divvy-tripdata.zip\n",
      "202310-divvy-tripdata.zip\n",
      "202311-divvy-tripdata.zip\n",
      "202312-divvy-tripdata.zip\n",
      "202401-divvy-tripdata.zip\n"
     ]
    }
   ],
   "source": [
    "%%bash\n",
    "# Remove directory containing files for MAC users.\n",
    "rm -r ./__MACOSX\n",
    "\n",
    "# Move all CSV files to the \"workedData\" directory. these files are the ones that will be worked on.\n",
    "for i in *.csv\n",
    "do\n",
    "    mv $i /c/Users/luisc/\"OneDrive - Colegio Federado de Ingenieros y de Arquitectos\"/\"DataScience&Coding\"/CaseStudies/\"2_BikeShareBusiness_GoogleDataAnalystics_Coursera\"/workedData/   \n",
    "done\n",
    "\n",
    "# Check if the files were moved.\n",
    "ls"
   ]
  },
  {
   "cell_type": "code",
   "execution_count": 31,
   "id": "e713019d-2e33-43be-93d1-e33eddfb81b3",
   "metadata": {},
   "outputs": [
    {
     "name": "stdout",
     "output_type": "stream",
     "text": [
      "-rw-r--r-- 1 luisc 197609  37M Mar  7  2023 202302-divvy-tripdata.csv\n",
      "-rw-r--r-- 1 luisc 197609  50M Apr  6  2023 202303-divvy-tripdata.csv\n",
      "-rw-r--r-- 1 luisc 197609  82M May  4  2023 202304-divvy-tripdata.csv\n",
      "-rw-r--r-- 1 luisc 197609 117M Jun  8  2023 202305-divvy-tripdata.csv\n",
      "-rw-r--r-- 1 luisc 197609 138M Jul 12  2023 202306-divvy-tripdata.csv\n",
      "-rw-r--r-- 1 luisc 197609 147M Aug 14  2023 202307-divvy-tripdata.csv\n",
      "-rw-r--r-- 1 luisc 197609 148M Oct 11 20:34 202308-divvy-tripdata.csv\n",
      "-rw-r--r-- 1 luisc 197609 128M Oct 11 20:37 202309-divvy-tripdata.csv\n",
      "-rw-r--r-- 1 luisc 197609 103M Nov 13 09:57 202310-divvy-tripdata.csv\n",
      "-rw-r--r-- 1 luisc 197609  70M Dec  5 12:22 202311-divvy-tripdata.csv\n",
      "-rw-r--r-- 1 luisc 197609  43M Jan  4 13:41 202312-divvy-tripdata.csv\n",
      "-rw-r--r-- 1 luisc 197609  29M Feb 19 17:28 202401-divvy-tripdata.csv\n"
     ]
    }
   ],
   "source": [
    "%%bash\n",
    "\n",
    "# Set current working directory.\n",
    "cd /c/Users/luisc/\"OneDrive - Colegio Federado de Ingenieros y de Arquitectos\"/\"DataScience&Coding\"/CaseStudies/\"2_BikeShareBusiness_GoogleDataAnalystics_Coursera\"/workedData/\n",
    "\n",
    "# Check the characteristics of the files.\n",
    "## Columns correspond to writing permissions, user, ?, size, date modified, file name.\n",
    "ls -alh *.csv"
   ]
  },
  {
   "cell_type": "code",
   "execution_count": 61,
   "id": "52ce64e4-a1eb-4567-8b8f-65c928f21a2c",
   "metadata": {},
   "outputs": [
    {
     "data": {
      "text/plain": [
       "{'202302': 37,\n",
       " '202303': 50,\n",
       " '202304': 82,\n",
       " '202305': 116,\n",
       " '202306': 138,\n",
       " '202307': 147,\n",
       " '202308': 148,\n",
       " '202309': 128,\n",
       " '202310': 103,\n",
       " '202311': 70,\n",
       " '202312': 43,\n",
       " '202401': 28}"
      ]
     },
     "execution_count": 61,
     "metadata": {},
     "output_type": "execute_result"
    }
   ],
   "source": [
    "# Getting file sizes to inspect them.\n",
    "\n",
    "fpath = \"C:\\\\Users\\\\luisc\\\\OneDrive - Colegio Federado de Ingenieros y de Arquitectos\\\\DataScience&Coding\\\\CaseStudies\\\\2_BikeShareBusiness_GoogleDataAnalystics_Coursera\\\\workedData\"\n",
    "\n",
    "file_sizes = {}\n",
    "\n",
    "for fname in os.listdir(fpath):\n",
    "    filepath = fpath + '\\\\' + fname\n",
    "    file_stats = os.stat(filepath)\n",
    "    file_sizes[fname[0:6]] = round(file_stats.st_size/1024**2) # 1024**2 to get the size in mega bytes.\n",
    "\n",
    "file_sizes"
   ]
  },
  {
   "cell_type": "code",
   "execution_count": 71,
   "id": "218fadae-3f63-4957-82c9-ac8bfb24da3d",
   "metadata": {},
   "outputs": [
    {
     "data": {
      "text/plain": [
       "<matplotlib.collections.PathCollection at 0x174cf04fe00>"
      ]
     },
     "execution_count": 71,
     "metadata": {},
     "output_type": "execute_result"
    },
    {
     "data": {
      "image/png": "[encoded data removed]",
      "text/plain": [
       "<Figure size 640x480 with 1 Axes>"
      ]
     },
     "metadata": {},
     "output_type": "display_data"
    }
   ],
   "source": [
    "x = list(file_sizes.keys())\n",
    "y = [val for val in file_sizes.values()]\n",
    "\n",
    "plt.scatter(x, y)"
   ]
  },
  {
   "cell_type": "code",
   "execution_count": 75,
   "id": "547326ef-7416-49e1-ab48-c436bdc87034",
   "metadata": {},
   "outputs": [
    {
     "data": {
      "text/plain": [
       "count     12.000000\n",
       "mean      90.833333\n",
       "std       44.846878\n",
       "min       28.000000\n",
       "25%       48.250000\n",
       "50%       92.500000\n",
       "75%      130.500000\n",
       "max      148.000000\n",
       "dtype: float64"
      ]
     },
     "execution_count": 75,
     "metadata": {},
     "output_type": "execute_result"
    }
   ],
   "source": [
    "pd.Series(y).describe()"
   ]
  },
  {
   "cell_type": "markdown",
   "id": "e91b1610-51e9-4554-839a-a92ca92e7cb9",
   "metadata": {},
   "source": [
    "End of section.\n",
    "Return to [Data description](#Prepare:-Data-description)"
   ]
  },
  {
   "cell_type": "markdown",
   "id": "28c1d28f-8b6d-4e1c-b1b1-c7e2243e5891",
   "metadata": {},
   "source": [
    "### file preview\n",
    "Return to [Data description](#Prepare:-Data-description)"
   ]
  },
  {
   "cell_type": "code",
   "execution_count": 8,
   "id": "4ce28742-5f42-4b92-a426-3e5d773e1b2f",
   "metadata": {},
   "outputs": [
    {
     "name": "stdout",
     "output_type": "stream",
     "text": [
      "<class 'pandas.core.frame.DataFrame'>\n",
      "RangeIndex: 144873 entries, 0 to 144872\n",
      "Data columns (total 13 columns):\n",
      " #   Column              Non-Null Count   Dtype  \n",
      "---  ------              --------------   -----  \n",
      " 0   ride_id             144873 non-null  object \n",
      " 1   rideable_type       144873 non-null  object \n",
      " 2   started_at          144873 non-null  object \n",
      " 3   ended_at            144873 non-null  object \n",
      " 4   start_station_name  125708 non-null  object \n",
      " 5   start_station_id    125708 non-null  object \n",
      " 6   end_station_name    124124 non-null  object \n",
      " 7   end_station_id      124124 non-null  object \n",
      " 8   start_lat           144873 non-null  float64\n",
      " 9   start_lng           144873 non-null  float64\n",
      " 10  end_lat             144585 non-null  float64\n",
      " 11  end_lng             144585 non-null  float64\n",
      " 12  member_casual       144873 non-null  object \n",
      "dtypes: float64(4), object(9)\n",
      "memory usage: 14.4+ MB\n"
     ]
    },
    {
     "data": {
      "text/html": [
       "<div>\n",
       "<style scoped>\n",
       "    .dataframe tbody tr th:only-of-type {\n",
       "        vertical-align: middle;\n",
       "    }\n",
       "\n",
       "    .dataframe tbody tr th {\n",
       "        vertical-align: top;\n",
       "    }\n",
       "\n",
       "    .dataframe thead th {\n",
       "        text-align: right;\n",
       "    }\n",
       "</style>\n",
       "<table border=\"1\" class=\"dataframe\">\n",
       "  <thead>\n",
       "    <tr style=\"text-align: right;\">\n",
       "      <th></th>\n",
       "      <th>ride_id</th>\n",
       "      <th>rideable_type</th>\n",
       "      <th>started_at</th>\n",
       "      <th>ended_at</th>\n",
       "      <th>start_station_name</th>\n",
       "      <th>start_station_id</th>\n",
       "      <th>end_station_name</th>\n",
       "      <th>end_station_id</th>\n",
       "      <th>start_lat</th>\n",
       "      <th>start_lng</th>\n",
       "      <th>end_lat</th>\n",
       "      <th>end_lng</th>\n",
       "      <th>member_casual</th>\n",
       "    </tr>\n",
       "  </thead>\n",
       "  <tbody>\n",
       "    <tr>\n",
       "      <th>0</th>\n",
       "      <td>C1D650626C8C899A</td>\n",
       "      <td>electric_bike</td>\n",
       "      <td>2024-01-12 15:30:27</td>\n",
       "      <td>2024-01-12 15:37:59</td>\n",
       "      <td>Wells St &amp; Elm St</td>\n",
       "      <td>KA1504000135</td>\n",
       "      <td>Kingsbury St &amp; Kinzie St</td>\n",
       "      <td>KA1503000043</td>\n",
       "      <td>41.903267</td>\n",
       "      <td>-87.634737</td>\n",
       "      <td>41.889177</td>\n",
       "      <td>-87.638506</td>\n",
       "      <td>member</td>\n",
       "    </tr>\n",
       "    <tr>\n",
       "      <th>1</th>\n",
       "      <td>EECD38BDB25BFCB0</td>\n",
       "      <td>electric_bike</td>\n",
       "      <td>2024-01-08 15:45:46</td>\n",
       "      <td>2024-01-08 15:52:59</td>\n",
       "      <td>Wells St &amp; Elm St</td>\n",
       "      <td>KA1504000135</td>\n",
       "      <td>Kingsbury St &amp; Kinzie St</td>\n",
       "      <td>KA1503000043</td>\n",
       "      <td>41.902937</td>\n",
       "      <td>-87.634440</td>\n",
       "      <td>41.889177</td>\n",
       "      <td>-87.638506</td>\n",
       "      <td>member</td>\n",
       "    </tr>\n",
       "    <tr>\n",
       "      <th>2</th>\n",
       "      <td>F4A9CE78061F17F7</td>\n",
       "      <td>electric_bike</td>\n",
       "      <td>2024-01-27 12:27:19</td>\n",
       "      <td>2024-01-27 12:35:19</td>\n",
       "      <td>Wells St &amp; Elm St</td>\n",
       "      <td>KA1504000135</td>\n",
       "      <td>Kingsbury St &amp; Kinzie St</td>\n",
       "      <td>KA1503000043</td>\n",
       "      <td>41.902951</td>\n",
       "      <td>-87.634470</td>\n",
       "      <td>41.889177</td>\n",
       "      <td>-87.638506</td>\n",
       "      <td>member</td>\n",
       "    </tr>\n",
       "    <tr>\n",
       "      <th>3</th>\n",
       "      <td>0A0D9E15EE50B171</td>\n",
       "      <td>classic_bike</td>\n",
       "      <td>2024-01-29 16:26:17</td>\n",
       "      <td>2024-01-29 16:56:06</td>\n",
       "      <td>Wells St &amp; Randolph St</td>\n",
       "      <td>TA1305000030</td>\n",
       "      <td>Larrabee St &amp; Webster Ave</td>\n",
       "      <td>13193</td>\n",
       "      <td>41.884295</td>\n",
       "      <td>-87.633963</td>\n",
       "      <td>41.921822</td>\n",
       "      <td>-87.644140</td>\n",
       "      <td>member</td>\n",
       "    </tr>\n",
       "    <tr>\n",
       "      <th>4</th>\n",
       "      <td>33FFC9805E3EFF9A</td>\n",
       "      <td>classic_bike</td>\n",
       "      <td>2024-01-31 05:43:23</td>\n",
       "      <td>2024-01-31 06:09:35</td>\n",
       "      <td>Lincoln Ave &amp; Waveland Ave</td>\n",
       "      <td>13253</td>\n",
       "      <td>Kingsbury St &amp; Kinzie St</td>\n",
       "      <td>KA1503000043</td>\n",
       "      <td>41.948797</td>\n",
       "      <td>-87.675278</td>\n",
       "      <td>41.889177</td>\n",
       "      <td>-87.638506</td>\n",
       "      <td>member</td>\n",
       "    </tr>\n",
       "  </tbody>\n",
       "</table>\n",
       "</div>"
      ],
      "text/plain": [
       "            ride_id  rideable_type           started_at             ended_at  \\\n",
       "0  C1D650626C8C899A  electric_bike  2024-01-12 15:30:27  2024-01-12 15:37:59   \n",
       "1  EECD38BDB25BFCB0  electric_bike  2024-01-08 15:45:46  2024-01-08 15:52:59   \n",
       "2  F4A9CE78061F17F7  electric_bike  2024-01-27 12:27:19  2024-01-27 12:35:19   \n",
       "3  0A0D9E15EE50B171   classic_bike  2024-01-29 16:26:17  2024-01-29 16:56:06   \n",
       "4  33FFC9805E3EFF9A   classic_bike  2024-01-31 05:43:23  2024-01-31 06:09:35   \n",
       "\n",
       "           start_station_name start_station_id           end_station_name  \\\n",
       "0           Wells St & Elm St     KA1504000135   Kingsbury St & Kinzie St   \n",
       "1           Wells St & Elm St     KA1504000135   Kingsbury St & Kinzie St   \n",
       "2           Wells St & Elm St     KA1504000135   Kingsbury St & Kinzie St   \n",
       "3      Wells St & Randolph St     TA1305000030  Larrabee St & Webster Ave   \n",
       "4  Lincoln Ave & Waveland Ave            13253   Kingsbury St & Kinzie St   \n",
       "\n",
       "  end_station_id  start_lat  start_lng    end_lat    end_lng member_casual  \n",
       "0   KA1503000043  41.903267 -87.634737  41.889177 -87.638506        member  \n",
       "1   KA1503000043  41.902937 -87.634440  41.889177 -87.638506        member  \n",
       "2   KA1503000043  41.902951 -87.634470  41.889177 -87.638506        member  \n",
       "3          13193  41.884295 -87.633963  41.921822 -87.644140        member  \n",
       "4   KA1503000043  41.948797 -87.675278  41.889177 -87.638506        member  "
      ]
     },
     "execution_count": 8,
     "metadata": {},
     "output_type": "execute_result"
    }
   ],
   "source": [
    "fpath = \"C:\\\\Users\\\\luisc\\\\OneDrive - Colegio Federado de Ingenieros y de Arquitectos\\\\DataScience&Coding\\\\CaseStudies\\\\2_BikeShareBusiness_GoogleDataAnalystics_Coursera\\\\workedData\"\n",
    "\n",
    "fname = \"202401-divvy-tripdata.csv\"\n",
    "\n",
    "td_202401 = pd.read_csv(fpath + '\\\\' + fname)\n",
    "td_202401.info()\n",
    "td_202401.head()"
   ]
  },
  {
   "cell_type": "markdown",
   "id": "0ad9cb8a-842c-4c0e-86dd-49ce142774e5",
   "metadata": {},
   "source": [
    "Observations:\n",
    "- 'started_at' and 'ended_at' should be of type datetime.\n",
    "- all other types seem correct, since type object are string or mixed numeric and non-numeric values."
   ]
  },
  {
   "cell_type": "markdown",
   "id": "d3e7ae58-cff4-487b-b747-18a6e8f717b0",
   "metadata": {},
   "source": [
    "End of section.\n",
    "Return to [Data description](#Prepare:-Data-description)"
   ]
  }
 ],
 "metadata": {
  "kernelspec": {
   "display_name": "Python 3 (ipykernel)",
   "language": "python",
   "name": "python3"
  },
  "language_info": {
   "codemirror_mode": {
    "name": "ipython",
    "version": 3
   },
   "file_extension": ".py",
   "mimetype": "text/x-python",
   "name": "python",
   "nbconvert_exporter": "python",
   "pygments_lexer": "ipython3",
   "version": "3.12.1"
  },
  "toc-autonumbering": true
 },
 "nbformat": 4,
 "nbformat_minor": 5
}
